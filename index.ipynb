{
 "cells": [
  {
   "cell_type": "code",
   "execution_count": 1,
   "metadata": {},
   "outputs": [
    {
     "ename": "ModuleNotFoundError",
     "evalue": "No module named 'lr_model.build_lr'",
     "output_type": "error",
     "traceback": [
      "\u001b[1;31m---------------------------------------------------------------------------\u001b[0m",
      "\u001b[1;31mModuleNotFoundError\u001b[0m                       Traceback (most recent call last)",
      "\u001b[1;32m<ipython-input-1-3c28c4af1961>\u001b[0m in \u001b[0;36m<module>\u001b[1;34m\u001b[0m\n\u001b[0;32m     15\u001b[0m \u001b[1;33m\u001b[0m\u001b[0m\n\u001b[0;32m     16\u001b[0m \u001b[1;32mfrom\u001b[0m \u001b[0meda\u001b[0m\u001b[1;33m.\u001b[0m\u001b[0meda\u001b[0m \u001b[1;32mimport\u001b[0m \u001b[1;33m*\u001b[0m\u001b[1;33m\u001b[0m\u001b[1;33m\u001b[0m\u001b[0m\n\u001b[1;32m---> 17\u001b[1;33m \u001b[1;32mfrom\u001b[0m \u001b[0mlr_model\u001b[0m\u001b[1;33m.\u001b[0m\u001b[0mbuild_lr\u001b[0m \u001b[1;32mimport\u001b[0m \u001b[1;33m*\u001b[0m\u001b[1;33m\u001b[0m\u001b[1;33m\u001b[0m\u001b[0m\n\u001b[0m",
      "\u001b[1;31mModuleNotFoundError\u001b[0m: No module named 'lr_model.build_lr'"
     ]
    }
   ],
   "source": [
    "import os\n",
    "import sys\n",
    "\n",
    "import pandas as pd\n",
    "import numpy as np\n",
    "\n",
    "import matplotlib.pyplot as plt\n",
    "import seaborn as sns\n",
    "\n",
    "import statsmodels\n",
    "import statsmodels.api as sm\n",
    "from statsmodels.formula.api import ols\n",
    "from statsmodels.stats.diagnostic import linear_rainbow, het_breuschpagan\n",
    "from statsmodels.stats.outliers_influence import variance_inflation_factor\n",
    "\n",
    "from eda.eda import *\n",
    "from lr_model.build_lr import *"
   ]
  },
  {
   "cell_type": "code",
   "execution_count": null,
   "metadata": {},
   "outputs": [],
   "source": [
    "# NOTE: Year = year for analysis; create: False(read merged file created before)/True(create a merged file)\n",
    "# Returns df_merged with selected columns from each file\n",
    "df_merged = consolidate_data(year=2019, create=True)"
   ]
  },
  {
   "cell_type": "code",
   "execution_count": 709,
   "metadata": {},
   "outputs": [
    {
     "data": {
      "text/plain": [
       "(5191, 60)"
      ]
     },
     "execution_count": 709,
     "metadata": {},
     "output_type": "execute_result"
    }
   ],
   "source": [
    "df_merged.shape"
   ]
  },
  {
   "cell_type": "code",
   "execution_count": 682,
   "metadata": {},
   "outputs": [
    {
     "data": {
      "text/plain": [
       "SalePrice                0\n",
       "PropertyType             0\n",
       "PropType             37040\n",
       "SqFtLot              37040\n",
       "TrafficNoise         37040\n",
       "AirportNoise         37040\n",
       "ZipCode              17601\n",
       "SqFtTotLiving        12032\n",
       "SqFtOpenPorch        12032\n",
       "SqFtEnclosedPorch    12032\n",
       "dtype: int64"
      ]
     },
     "execution_count": 682,
     "metadata": {},
     "output_type": "execute_result"
    }
   ],
   "source": [
    "cols = list(df_merged.columns)\n",
    "# cols = cols[2:4] + cols[6:7] + cols[10:11] + cols[27:29] + cols[35:36] + cols[43:44] + cols[48:50] \n",
    "cols = cols[2:4] +  cols[6:7] +  cols[10:11] + cols[27:29] + cols[35:36] + cols[43:44] + cols[48:50] \n",
    "df = df_merged[cols]\n",
    "df.isna().sum()\n",
    "\n",
    "df_merged.to_csv ('~/Downloads/test.csv', index = False, header=True)\n",
    "df.isna().sum()"
   ]
  },
  {
   "cell_type": "code",
   "execution_count": 678,
   "metadata": {},
   "outputs": [],
   "source": [
    "# Y = df_merged['SalePrice']\n",
    "# X = df_merged[['PropertyType']]\n",
    "# X = pd.get_dummies(data=X, drop_first=True)"
   ]
  },
  {
   "cell_type": "code",
   "execution_count": 688,
   "metadata": {},
   "outputs": [],
   "source": [
    "# df_m= df_m.merge(df_p, right_on=['Merged_Key'], left_on=['Merged_Key'], how='left')"
   ]
  },
  {
   "cell_type": "code",
   "execution_count": null,
   "metadata": {},
   "outputs": [],
   "source": [
    "#df_m= df_m.merge(df_p, right_on=['Merged_Key'], left_on=['Merged_Key'], how='left')"
   ]
  },
  {
   "cell_type": "code",
   "execution_count": 696,
   "metadata": {},
   "outputs": [
    {
     "name": "stderr",
     "output_type": "stream",
     "text": [
      "/Users/lalithap/anaconda3/envs/learn-env/lib/python3.6/site-packages/pandas/core/indexing.py:494: SettingWithCopyWarning: \n",
      "A value is trying to be set on a copy of a slice from a DataFrame.\n",
      "Try using .loc[row_indexer,col_indexer] = value instead\n",
      "\n",
      "See the caveats in the documentation: http://pandas.pydata.org/pandas-docs/stable/user_guide/indexing.html#returning-a-view-versus-a-copy\n",
      "  self.obj[item] = s\n"
     ]
    },
    {
     "name": "stdout",
     "output_type": "stream",
     "text": [
      "Done eading Sales data.... (41818, 6)\n",
      "Before EXTR_Parcel.csv:  (616089, 81)\n",
      "After filtering KING county rows (103217, 27)\n",
      "Filtering Residential and Condo data.... (98156, 27)\n"
     ]
    }
   ],
   "source": [
    "df_s = get_sales(2019)\n",
    "df_p = get_parcels()"
   ]
  },
  {
   "cell_type": "code",
   "execution_count": 703,
   "metadata": {},
   "outputs": [],
   "source": [
    "df_m = df_s\n",
    "df_m= df_m.merge(df_p, right_on=['Merged_Key'], left_on=['Merged_Key'], how='inner')"
   ]
  },
  {
   "cell_type": "code",
   "execution_count": 704,
   "metadata": {},
   "outputs": [
    {
     "data": {
      "text/html": [
       "<div>\n",
       "<style scoped>\n",
       "    .dataframe tbody tr th:only-of-type {\n",
       "        vertical-align: middle;\n",
       "    }\n",
       "\n",
       "    .dataframe tbody tr th {\n",
       "        vertical-align: top;\n",
       "    }\n",
       "\n",
       "    .dataframe thead th {\n",
       "        text-align: right;\n",
       "    }\n",
       "</style>\n",
       "<table border=\"1\" class=\"dataframe\">\n",
       "  <thead>\n",
       "    <tr style=\"text-align: right;\">\n",
       "      <th></th>\n",
       "      <th>Merged_Key</th>\n",
       "      <th>DocumentDate</th>\n",
       "      <th>SalePrice</th>\n",
       "      <th>PropertyType</th>\n",
       "      <th>PrincipalUse</th>\n",
       "      <th>PropertyClass</th>\n",
       "      <th>PropType</th>\n",
       "      <th>Area</th>\n",
       "      <th>SubArea</th>\n",
       "      <th>DistrictName</th>\n",
       "      <th>...</th>\n",
       "      <th>WfntBank</th>\n",
       "      <th>WfntPoorQuality</th>\n",
       "      <th>WfntRestrictedAccess</th>\n",
       "      <th>WfntAccessRights</th>\n",
       "      <th>WfntProximityInfluence</th>\n",
       "      <th>TidelandShoreland</th>\n",
       "      <th>TrafficNoise</th>\n",
       "      <th>AirportNoise</th>\n",
       "      <th>PowerLines</th>\n",
       "      <th>OtherNuisances</th>\n",
       "    </tr>\n",
       "  </thead>\n",
       "  <tbody>\n",
       "    <tr>\n",
       "      <th>0</th>\n",
       "      <td>098400000450</td>\n",
       "      <td>2019</td>\n",
       "      <td>409950</td>\n",
       "      <td>11</td>\n",
       "      <td>6</td>\n",
       "      <td>8</td>\n",
       "      <td>R</td>\n",
       "      <td>51.0</td>\n",
       "      <td>6.0</td>\n",
       "      <td>KING COUNTY</td>\n",
       "      <td>...</td>\n",
       "      <td>0</td>\n",
       "      <td>0</td>\n",
       "      <td>0</td>\n",
       "      <td>N</td>\n",
       "      <td>N</td>\n",
       "      <td>0</td>\n",
       "      <td>0</td>\n",
       "      <td>0</td>\n",
       "      <td>N</td>\n",
       "      <td>N</td>\n",
       "    </tr>\n",
       "    <tr>\n",
       "      <th>1</th>\n",
       "      <td>797320002320</td>\n",
       "      <td>2019</td>\n",
       "      <td>540000</td>\n",
       "      <td>3</td>\n",
       "      <td>6</td>\n",
       "      <td>8</td>\n",
       "      <td>R</td>\n",
       "      <td>23.0</td>\n",
       "      <td>4.0</td>\n",
       "      <td>KING COUNTY</td>\n",
       "      <td>...</td>\n",
       "      <td>0</td>\n",
       "      <td>0</td>\n",
       "      <td>0</td>\n",
       "      <td>N</td>\n",
       "      <td>N</td>\n",
       "      <td>0</td>\n",
       "      <td>0</td>\n",
       "      <td>0</td>\n",
       "      <td>N</td>\n",
       "      <td>N</td>\n",
       "    </tr>\n",
       "    <tr>\n",
       "      <th>2</th>\n",
       "      <td>082607009096</td>\n",
       "      <td>2019</td>\n",
       "      <td>930000</td>\n",
       "      <td>11</td>\n",
       "      <td>6</td>\n",
       "      <td>8</td>\n",
       "      <td>R</td>\n",
       "      <td>70.0</td>\n",
       "      <td>3.0</td>\n",
       "      <td>KING COUNTY</td>\n",
       "      <td>...</td>\n",
       "      <td>0</td>\n",
       "      <td>0</td>\n",
       "      <td>0</td>\n",
       "      <td>N</td>\n",
       "      <td>N</td>\n",
       "      <td>0</td>\n",
       "      <td>0</td>\n",
       "      <td>0</td>\n",
       "      <td>N</td>\n",
       "      <td>N</td>\n",
       "    </tr>\n",
       "    <tr>\n",
       "      <th>3</th>\n",
       "      <td>781280001989</td>\n",
       "      <td>2019</td>\n",
       "      <td>100000</td>\n",
       "      <td>1</td>\n",
       "      <td>7</td>\n",
       "      <td>1</td>\n",
       "      <td>R</td>\n",
       "      <td>25.0</td>\n",
       "      <td>1.0</td>\n",
       "      <td>KING COUNTY</td>\n",
       "      <td>...</td>\n",
       "      <td>0</td>\n",
       "      <td>0</td>\n",
       "      <td>0</td>\n",
       "      <td>N</td>\n",
       "      <td>N</td>\n",
       "      <td>0</td>\n",
       "      <td>0</td>\n",
       "      <td>0</td>\n",
       "      <td>Y</td>\n",
       "      <td>N</td>\n",
       "    </tr>\n",
       "    <tr>\n",
       "      <th>4</th>\n",
       "      <td>410200000075</td>\n",
       "      <td>2019</td>\n",
       "      <td>379950</td>\n",
       "      <td>11</td>\n",
       "      <td>6</td>\n",
       "      <td>8</td>\n",
       "      <td>R</td>\n",
       "      <td>40.0</td>\n",
       "      <td>9.0</td>\n",
       "      <td>KING COUNTY</td>\n",
       "      <td>...</td>\n",
       "      <td>2</td>\n",
       "      <td>0</td>\n",
       "      <td>0</td>\n",
       "      <td>N</td>\n",
       "      <td>N</td>\n",
       "      <td>0</td>\n",
       "      <td>0</td>\n",
       "      <td>0</td>\n",
       "      <td>N</td>\n",
       "      <td>N</td>\n",
       "    </tr>\n",
       "    <tr>\n",
       "      <th>...</th>\n",
       "      <td>...</td>\n",
       "      <td>...</td>\n",
       "      <td>...</td>\n",
       "      <td>...</td>\n",
       "      <td>...</td>\n",
       "      <td>...</td>\n",
       "      <td>...</td>\n",
       "      <td>...</td>\n",
       "      <td>...</td>\n",
       "      <td>...</td>\n",
       "      <td>...</td>\n",
       "      <td>...</td>\n",
       "      <td>...</td>\n",
       "      <td>...</td>\n",
       "      <td>...</td>\n",
       "      <td>...</td>\n",
       "      <td>...</td>\n",
       "      <td>...</td>\n",
       "      <td>...</td>\n",
       "      <td>...</td>\n",
       "      <td>...</td>\n",
       "    </tr>\n",
       "    <tr>\n",
       "      <th>5061</th>\n",
       "      <td>142202009051</td>\n",
       "      <td>2019</td>\n",
       "      <td>522000</td>\n",
       "      <td>11</td>\n",
       "      <td>6</td>\n",
       "      <td>8</td>\n",
       "      <td>R</td>\n",
       "      <td>100.0</td>\n",
       "      <td>5.0</td>\n",
       "      <td>KING COUNTY</td>\n",
       "      <td>...</td>\n",
       "      <td>0</td>\n",
       "      <td>0</td>\n",
       "      <td>0</td>\n",
       "      <td>N</td>\n",
       "      <td>N</td>\n",
       "      <td>0</td>\n",
       "      <td>0</td>\n",
       "      <td>0</td>\n",
       "      <td>N</td>\n",
       "      <td>N</td>\n",
       "    </tr>\n",
       "    <tr>\n",
       "      <th>5062</th>\n",
       "      <td>032606009118</td>\n",
       "      <td>2019</td>\n",
       "      <td>945000</td>\n",
       "      <td>11</td>\n",
       "      <td>6</td>\n",
       "      <td>8</td>\n",
       "      <td>R</td>\n",
       "      <td>95.0</td>\n",
       "      <td>5.0</td>\n",
       "      <td>KING COUNTY</td>\n",
       "      <td>...</td>\n",
       "      <td>0</td>\n",
       "      <td>0</td>\n",
       "      <td>0</td>\n",
       "      <td>N</td>\n",
       "      <td>N</td>\n",
       "      <td>0</td>\n",
       "      <td>0</td>\n",
       "      <td>0</td>\n",
       "      <td>N</td>\n",
       "      <td>N</td>\n",
       "    </tr>\n",
       "    <tr>\n",
       "      <th>5063</th>\n",
       "      <td>322207009085</td>\n",
       "      <td>2019</td>\n",
       "      <td>410000</td>\n",
       "      <td>3</td>\n",
       "      <td>6</td>\n",
       "      <td>8</td>\n",
       "      <td>R</td>\n",
       "      <td>40.0</td>\n",
       "      <td>9.0</td>\n",
       "      <td>KING COUNTY</td>\n",
       "      <td>...</td>\n",
       "      <td>0</td>\n",
       "      <td>0</td>\n",
       "      <td>0</td>\n",
       "      <td>N</td>\n",
       "      <td>N</td>\n",
       "      <td>0</td>\n",
       "      <td>1</td>\n",
       "      <td>0</td>\n",
       "      <td>N</td>\n",
       "      <td>N</td>\n",
       "    </tr>\n",
       "    <tr>\n",
       "      <th>5064</th>\n",
       "      <td>793350000390</td>\n",
       "      <td>2019</td>\n",
       "      <td>330000</td>\n",
       "      <td>91</td>\n",
       "      <td>6</td>\n",
       "      <td>7</td>\n",
       "      <td>R</td>\n",
       "      <td>94.0</td>\n",
       "      <td>7.0</td>\n",
       "      <td>KING COUNTY</td>\n",
       "      <td>...</td>\n",
       "      <td>2</td>\n",
       "      <td>0</td>\n",
       "      <td>0</td>\n",
       "      <td>N</td>\n",
       "      <td>N</td>\n",
       "      <td>0</td>\n",
       "      <td>0</td>\n",
       "      <td>0</td>\n",
       "      <td>N</td>\n",
       "      <td>N</td>\n",
       "    </tr>\n",
       "    <tr>\n",
       "      <th>5065</th>\n",
       "      <td>282611009037</td>\n",
       "      <td>2019</td>\n",
       "      <td>73000</td>\n",
       "      <td>91</td>\n",
       "      <td>6</td>\n",
       "      <td>7</td>\n",
       "      <td>R</td>\n",
       "      <td>90.0</td>\n",
       "      <td>1.0</td>\n",
       "      <td>KING COUNTY</td>\n",
       "      <td>...</td>\n",
       "      <td>0</td>\n",
       "      <td>0</td>\n",
       "      <td>0</td>\n",
       "      <td>N</td>\n",
       "      <td>N</td>\n",
       "      <td>0</td>\n",
       "      <td>0</td>\n",
       "      <td>0</td>\n",
       "      <td>N</td>\n",
       "      <td>N</td>\n",
       "    </tr>\n",
       "  </tbody>\n",
       "</table>\n",
       "<p>5066 rows × 31 columns</p>\n",
       "</div>"
      ],
      "text/plain": [
       "        Merged_Key DocumentDate  SalePrice  PropertyType  PrincipalUse  \\\n",
       "0     098400000450         2019     409950            11             6   \n",
       "1     797320002320         2019     540000             3             6   \n",
       "2     082607009096         2019     930000            11             6   \n",
       "3     781280001989         2019     100000             1             7   \n",
       "4     410200000075         2019     379950            11             6   \n",
       "...            ...          ...        ...           ...           ...   \n",
       "5061  142202009051         2019     522000            11             6   \n",
       "5062  032606009118         2019     945000            11             6   \n",
       "5063  322207009085         2019     410000             3             6   \n",
       "5064  793350000390         2019     330000            91             6   \n",
       "5065  282611009037         2019      73000            91             6   \n",
       "\n",
       "      PropertyClass PropType   Area  SubArea DistrictName  ...  WfntBank  \\\n",
       "0                 8        R   51.0      6.0  KING COUNTY  ...         0   \n",
       "1                 8        R   23.0      4.0  KING COUNTY  ...         0   \n",
       "2                 8        R   70.0      3.0  KING COUNTY  ...         0   \n",
       "3                 1        R   25.0      1.0  KING COUNTY  ...         0   \n",
       "4                 8        R   40.0      9.0  KING COUNTY  ...         2   \n",
       "...             ...      ...    ...      ...          ...  ...       ...   \n",
       "5061              8        R  100.0      5.0  KING COUNTY  ...         0   \n",
       "5062              8        R   95.0      5.0  KING COUNTY  ...         0   \n",
       "5063              8        R   40.0      9.0  KING COUNTY  ...         0   \n",
       "5064              7        R   94.0      7.0  KING COUNTY  ...         2   \n",
       "5065              7        R   90.0      1.0  KING COUNTY  ...         0   \n",
       "\n",
       "      WfntPoorQuality  WfntRestrictedAccess  WfntAccessRights  \\\n",
       "0                   0                     0                 N   \n",
       "1                   0                     0                 N   \n",
       "2                   0                     0                 N   \n",
       "3                   0                     0                 N   \n",
       "4                   0                     0                 N   \n",
       "...               ...                   ...               ...   \n",
       "5061                0                     0                 N   \n",
       "5062                0                     0                 N   \n",
       "5063                0                     0                 N   \n",
       "5064                0                     0                 N   \n",
       "5065                0                     0                 N   \n",
       "\n",
       "      WfntProximityInfluence  TidelandShoreland  TrafficNoise  AirportNoise  \\\n",
       "0                          N                  0             0             0   \n",
       "1                          N                  0             0             0   \n",
       "2                          N                  0             0             0   \n",
       "3                          N                  0             0             0   \n",
       "4                          N                  0             0             0   \n",
       "...                      ...                ...           ...           ...   \n",
       "5061                       N                  0             0             0   \n",
       "5062                       N                  0             0             0   \n",
       "5063                       N                  0             1             0   \n",
       "5064                       N                  0             0             0   \n",
       "5065                       N                  0             0             0   \n",
       "\n",
       "      PowerLines  OtherNuisances  \n",
       "0              N               N  \n",
       "1              N               N  \n",
       "2              N               N  \n",
       "3              Y               N  \n",
       "4              N               N  \n",
       "...          ...             ...  \n",
       "5061           N               N  \n",
       "5062           N               N  \n",
       "5063           N               N  \n",
       "5064           N               N  \n",
       "5065           N               N  \n",
       "\n",
       "[5066 rows x 31 columns]"
      ]
     },
     "execution_count": 704,
     "metadata": {},
     "output_type": "execute_result"
    }
   ],
   "source": [
    "df_m"
   ]
  },
  {
   "cell_type": "code",
   "execution_count": 700,
   "metadata": {},
   "outputs": [
    {
     "data": {
      "text/plain": [
       "36752"
      ]
     },
     "execution_count": 700,
     "metadata": {},
     "output_type": "execute_result"
    }
   ],
   "source": [
    "df_m.PropType.isna().sum()"
   ]
  },
  {
   "cell_type": "code",
   "execution_count": 702,
   "metadata": {},
   "outputs": [
    {
     "data": {
      "text/plain": [
       "0"
      ]
     },
     "execution_count": 702,
     "metadata": {},
     "output_type": "execute_result"
    }
   ],
   "source": [
    "df_p.PropType.isna().sum()"
   ]
  },
  {
   "cell_type": "code",
   "execution_count": 710,
   "metadata": {},
   "outputs": [
    {
     "name": "stdout",
     "output_type": "stream",
     "text": [
      "Done eading Sales data.... (41818, 6)\n"
     ]
    },
    {
     "name": "stderr",
     "output_type": "stream",
     "text": [
      "/Users/lalithap/anaconda3/envs/learn-env/lib/python3.6/site-packages/pandas/core/indexing.py:494: SettingWithCopyWarning: \n",
      "A value is trying to be set on a copy of a slice from a DataFrame.\n",
      "Try using .loc[row_indexer,col_indexer] = value instead\n",
      "\n",
      "See the caveats in the documentation: http://pandas.pydata.org/pandas-docs/stable/user_guide/indexing.html#returning-a-view-versus-a-copy\n",
      "  self.obj[item] = s\n"
     ]
    }
   ],
   "source": [
    "df_s = get_sales()"
   ]
  },
  {
   "cell_type": "code",
   "execution_count": 711,
   "metadata": {},
   "outputs": [
    {
     "name": "stdout",
     "output_type": "stream",
     "text": [
      "Before EXTR_Parcel.csv:  (616089, 81)\n",
      "After filtering KING county rows (103217, 27)\n",
      "Filtering Residential and Condo data.... (98156, 27)\n"
     ]
    }
   ],
   "source": [
    "df_p = get_parcels()"
   ]
  },
  {
   "cell_type": "code",
   "execution_count": 732,
   "metadata": {},
   "outputs": [
    {
     "name": "stdout",
     "output_type": "stream",
     "text": [
      "213043000120\n",
      "0\n",
      "<class 'NoneType'>\n",
      "919715000200\n",
      "0\n",
      "<class 'NoneType'>\n",
      "894444000200\n",
      "0\n",
      "<class 'NoneType'>\n",
      "940652000630\n",
      "0\n",
      "<class 'NoneType'>\n",
      "615490000010\n",
      "0\n",
      "<class 'NoneType'>\n"
     ]
    }
   ],
   "source": [
    "for indx in range(0,5):\n",
    "    str = print(df_s['Merged_Key'].values[indx])\n",
    "    s = print(df_p.Merged_Key[df_p['Merged_Key'] == str].sum())\n",
    "    print(type(s))"
   ]
  },
  {
   "cell_type": "code",
   "execution_count": 726,
   "metadata": {},
   "outputs": [
    {
     "data": {
      "text/plain": [
       "0"
      ]
     },
     "execution_count": 726,
     "metadata": {},
     "output_type": "execute_result"
    }
   ],
   "source": [
    "df_p.Merged_Key[df_p['Merged_Key'] == \"213043000120\"].sum()"
   ]
  },
  {
   "cell_type": "code",
   "execution_count": null,
   "metadata": {},
   "outputs": [],
   "source": []
  }
 ],
 "metadata": {
  "kernelspec": {
   "display_name": "Python 3",
   "language": "python",
   "name": "python3"
  },
  "language_info": {
   "codemirror_mode": {
    "name": "ipython",
    "version": 3
   },
   "file_extension": ".py",
   "mimetype": "text/x-python",
   "name": "python",
   "nbconvert_exporter": "python",
   "pygments_lexer": "ipython3",
   "version": "3.6.9"
  }
 },
 "nbformat": 4,
 "nbformat_minor": 4
}
