{
 "cells": [
  {
   "cell_type": "code",
   "execution_count": 1,
   "metadata": {},
   "outputs": [],
   "source": [
    "import os\n",
    "import sys\n",
    "\n",
    "import pandas as pd\n",
    "import numpy as np\n",
    "\n",
    "import matplotlib.pyplot as plt\n",
    "import seaborn as sns\n",
    "import matplotlib\n",
    "\n",
    "%load_ext autoreload\n",
    "%autoreload 2\n",
    "\n",
    "import statsmodels\n",
    "import statsmodels.api as sm\n",
    "from statsmodels.formula.api import ols\n",
    "from statsmodels.stats.diagnostic import linear_rainbow, het_breuschpagan\n",
    "from statsmodels.stats.outliers_influence import variance_inflation_factor\n",
    "\n",
    "from sklearn.preprocessing import OneHotEncoder, LabelEncoder\n",
    "\n",
    "from src.eda import *\n",
    "from src.regression import *\n",
    "from src.visualization import *"
   ]
  },
  {
   "cell_type": "markdown",
   "metadata": {},
   "source": [
    "## 1) Data Preparation and Understanding\n",
    "> ### Make a function call to read and merge to a consolidated dataframe.\n",
    "> ### Function: Consodidate_data (year, create)\n",
    ">> ####    Parameter: 1) Year: Year to analyze (as yyyy)\n",
    ">> ####               2) Create: `True` -- Create a `consolidated.csv` from reading all input files in data directory\n",
    ">> ####                          `False`-- Read from 'consolidated.csv' \n",
    ">> ####.   Returns: dataframe of consolidated attributes to use it in the model"
   ]
  },
  {
   "cell_type": "code",
   "execution_count": 2,
   "metadata": {},
   "outputs": [
    {
     "name": "stdout",
     "output_type": "stream",
     "text": [
      "Reading Sales Data from ./data/raw/EXTR_RPSale.csv ...\n"
     ]
    },
    {
     "ename": "FileNotFoundError",
     "evalue": "[Errno 2] File b'./data/raw/EXTR_RPSale.csv' does not exist: b'./data/raw/EXTR_RPSale.csv'",
     "output_type": "error",
     "traceback": [
      "\u001b[1;31m---------------------------------------------------------------------------\u001b[0m",
      "\u001b[1;31mFileNotFoundError\u001b[0m                         Traceback (most recent call last)",
      "\u001b[1;32m<ipython-input-2-5eb94de727b6>\u001b[0m in \u001b[0;36m<module>\u001b[1;34m\u001b[0m\n\u001b[0;32m      1\u001b[0m \u001b[1;31m# Returns df_merged with selected columns from each file. Also, save the contents to ./data/consolidated.csv to load to avoid creating data each time.\u001b[0m\u001b[1;33m\u001b[0m\u001b[1;33m\u001b[0m\u001b[1;33m\u001b[0m\u001b[0m\n\u001b[1;32m----> 2\u001b[1;33m \u001b[0mdf_merged\u001b[0m \u001b[1;33m=\u001b[0m \u001b[0mconsolidate_data\u001b[0m\u001b[1;33m(\u001b[0m\u001b[0myear\u001b[0m\u001b[1;33m=\u001b[0m\u001b[1;36m2019\u001b[0m\u001b[1;33m,\u001b[0m \u001b[0mcreate\u001b[0m\u001b[1;33m=\u001b[0m\u001b[1;32mFalse\u001b[0m\u001b[1;33m)\u001b[0m\u001b[1;33m\u001b[0m\u001b[1;33m\u001b[0m\u001b[0m\n\u001b[0m",
      "\u001b[1;32mY:\\flatiron\\phase 2\\phase_2_project_chicago-sf-seattle-ds-082420\\src\\eda.py\u001b[0m in \u001b[0;36mconsolidate_data\u001b[1;34m(year, create)\u001b[0m\n\u001b[0;32m    159\u001b[0m     \u001b[1;32melse\u001b[0m\u001b[1;33m:\u001b[0m\u001b[1;33m\u001b[0m\u001b[1;33m\u001b[0m\u001b[0m\n\u001b[0;32m    160\u001b[0m         \u001b[1;31m# get read data from multiple csv files and create one consolidated data file after extracting year understudy and cleanup.\u001b[0m\u001b[1;33m\u001b[0m\u001b[1;33m\u001b[0m\u001b[1;33m\u001b[0m\u001b[0m\n\u001b[1;32m--> 161\u001b[1;33m         \u001b[0mdf_sales\u001b[0m \u001b[1;33m=\u001b[0m \u001b[0mget_sales\u001b[0m\u001b[1;33m(\u001b[0m\u001b[0myear\u001b[0m\u001b[1;33m)\u001b[0m\u001b[1;33m\u001b[0m\u001b[1;33m\u001b[0m\u001b[0m\n\u001b[0m\u001b[0;32m    162\u001b[0m         \u001b[0mdf_parcels\u001b[0m \u001b[1;33m=\u001b[0m \u001b[0mget_parcels\u001b[0m\u001b[1;33m(\u001b[0m\u001b[1;33m)\u001b[0m\u001b[1;33m\u001b[0m\u001b[1;33m\u001b[0m\u001b[0m\n\u001b[0;32m    163\u001b[0m         \u001b[0mdf_resbldg\u001b[0m \u001b[1;33m=\u001b[0m \u001b[0mget_resBldg\u001b[0m\u001b[1;33m(\u001b[0m\u001b[1;33m)\u001b[0m\u001b[1;33m\u001b[0m\u001b[1;33m\u001b[0m\u001b[0m\n",
      "\u001b[1;32mY:\\flatiron\\phase 2\\phase_2_project_chicago-sf-seattle-ds-082420\\src\\eda.py\u001b[0m in \u001b[0;36mget_sales\u001b[1;34m(year)\u001b[0m\n\u001b[0;32m     49\u001b[0m \u001b[1;33m\u001b[0m\u001b[0m\n\u001b[0;32m     50\u001b[0m     \u001b[0mprint\u001b[0m\u001b[1;33m(\u001b[0m \u001b[1;34m\"Reading Sales Data from ./data/raw/EXTR_RPSale.csv ...\"\u001b[0m\u001b[1;33m)\u001b[0m\u001b[1;33m\u001b[0m\u001b[1;33m\u001b[0m\u001b[0m\n\u001b[1;32m---> 51\u001b[1;33m     \u001b[0mdf\u001b[0m \u001b[1;33m=\u001b[0m \u001b[0mpd\u001b[0m\u001b[1;33m.\u001b[0m\u001b[0mread_csv\u001b[0m\u001b[1;33m(\u001b[0m\u001b[1;34m'./data/raw/EXTR_RPSale.csv'\u001b[0m\u001b[1;33m,\u001b[0m \u001b[0mencoding\u001b[0m \u001b[1;33m=\u001b[0m \u001b[1;34m\"ISO-8859-1\"\u001b[0m\u001b[1;33m,\u001b[0m \u001b[0mlow_memory\u001b[0m\u001b[1;33m=\u001b[0m\u001b[1;32mFalse\u001b[0m\u001b[1;33m)\u001b[0m\u001b[1;33m\u001b[0m\u001b[1;33m\u001b[0m\u001b[0m\n\u001b[0m\u001b[0;32m     52\u001b[0m \u001b[1;33m\u001b[0m\u001b[0m\n\u001b[0;32m     53\u001b[0m     \u001b[1;31m# Filter the following columns from EXTR_RPsale table\u001b[0m\u001b[1;33m\u001b[0m\u001b[1;33m\u001b[0m\u001b[1;33m\u001b[0m\u001b[0m\n",
      "\u001b[1;32mY:\\Users\\awyeh\\anaconda3\\envs\\learn-env\\lib\\site-packages\\pandas\\io\\parsers.py\u001b[0m in \u001b[0;36mparser_f\u001b[1;34m(filepath_or_buffer, sep, delimiter, header, names, index_col, usecols, squeeze, prefix, mangle_dupe_cols, dtype, engine, converters, true_values, false_values, skipinitialspace, skiprows, skipfooter, nrows, na_values, keep_default_na, na_filter, verbose, skip_blank_lines, parse_dates, infer_datetime_format, keep_date_col, date_parser, dayfirst, cache_dates, iterator, chunksize, compression, thousands, decimal, lineterminator, quotechar, quoting, doublequote, escapechar, comment, encoding, dialect, error_bad_lines, warn_bad_lines, delim_whitespace, low_memory, memory_map, float_precision)\u001b[0m\n\u001b[0;32m    683\u001b[0m         )\n\u001b[0;32m    684\u001b[0m \u001b[1;33m\u001b[0m\u001b[0m\n\u001b[1;32m--> 685\u001b[1;33m         \u001b[1;32mreturn\u001b[0m \u001b[0m_read\u001b[0m\u001b[1;33m(\u001b[0m\u001b[0mfilepath_or_buffer\u001b[0m\u001b[1;33m,\u001b[0m \u001b[0mkwds\u001b[0m\u001b[1;33m)\u001b[0m\u001b[1;33m\u001b[0m\u001b[1;33m\u001b[0m\u001b[0m\n\u001b[0m\u001b[0;32m    686\u001b[0m \u001b[1;33m\u001b[0m\u001b[0m\n\u001b[0;32m    687\u001b[0m     \u001b[0mparser_f\u001b[0m\u001b[1;33m.\u001b[0m\u001b[0m__name__\u001b[0m \u001b[1;33m=\u001b[0m \u001b[0mname\u001b[0m\u001b[1;33m\u001b[0m\u001b[1;33m\u001b[0m\u001b[0m\n",
      "\u001b[1;32mY:\\Users\\awyeh\\anaconda3\\envs\\learn-env\\lib\\site-packages\\pandas\\io\\parsers.py\u001b[0m in \u001b[0;36m_read\u001b[1;34m(filepath_or_buffer, kwds)\u001b[0m\n\u001b[0;32m    455\u001b[0m \u001b[1;33m\u001b[0m\u001b[0m\n\u001b[0;32m    456\u001b[0m     \u001b[1;31m# Create the parser.\u001b[0m\u001b[1;33m\u001b[0m\u001b[1;33m\u001b[0m\u001b[1;33m\u001b[0m\u001b[0m\n\u001b[1;32m--> 457\u001b[1;33m     \u001b[0mparser\u001b[0m \u001b[1;33m=\u001b[0m \u001b[0mTextFileReader\u001b[0m\u001b[1;33m(\u001b[0m\u001b[0mfp_or_buf\u001b[0m\u001b[1;33m,\u001b[0m \u001b[1;33m**\u001b[0m\u001b[0mkwds\u001b[0m\u001b[1;33m)\u001b[0m\u001b[1;33m\u001b[0m\u001b[1;33m\u001b[0m\u001b[0m\n\u001b[0m\u001b[0;32m    458\u001b[0m \u001b[1;33m\u001b[0m\u001b[0m\n\u001b[0;32m    459\u001b[0m     \u001b[1;32mif\u001b[0m \u001b[0mchunksize\u001b[0m \u001b[1;32mor\u001b[0m \u001b[0miterator\u001b[0m\u001b[1;33m:\u001b[0m\u001b[1;33m\u001b[0m\u001b[1;33m\u001b[0m\u001b[0m\n",
      "\u001b[1;32mY:\\Users\\awyeh\\anaconda3\\envs\\learn-env\\lib\\site-packages\\pandas\\io\\parsers.py\u001b[0m in \u001b[0;36m__init__\u001b[1;34m(self, f, engine, **kwds)\u001b[0m\n\u001b[0;32m    893\u001b[0m             \u001b[0mself\u001b[0m\u001b[1;33m.\u001b[0m\u001b[0moptions\u001b[0m\u001b[1;33m[\u001b[0m\u001b[1;34m\"has_index_names\"\u001b[0m\u001b[1;33m]\u001b[0m \u001b[1;33m=\u001b[0m \u001b[0mkwds\u001b[0m\u001b[1;33m[\u001b[0m\u001b[1;34m\"has_index_names\"\u001b[0m\u001b[1;33m]\u001b[0m\u001b[1;33m\u001b[0m\u001b[1;33m\u001b[0m\u001b[0m\n\u001b[0;32m    894\u001b[0m \u001b[1;33m\u001b[0m\u001b[0m\n\u001b[1;32m--> 895\u001b[1;33m         \u001b[0mself\u001b[0m\u001b[1;33m.\u001b[0m\u001b[0m_make_engine\u001b[0m\u001b[1;33m(\u001b[0m\u001b[0mself\u001b[0m\u001b[1;33m.\u001b[0m\u001b[0mengine\u001b[0m\u001b[1;33m)\u001b[0m\u001b[1;33m\u001b[0m\u001b[1;33m\u001b[0m\u001b[0m\n\u001b[0m\u001b[0;32m    896\u001b[0m \u001b[1;33m\u001b[0m\u001b[0m\n\u001b[0;32m    897\u001b[0m     \u001b[1;32mdef\u001b[0m \u001b[0mclose\u001b[0m\u001b[1;33m(\u001b[0m\u001b[0mself\u001b[0m\u001b[1;33m)\u001b[0m\u001b[1;33m:\u001b[0m\u001b[1;33m\u001b[0m\u001b[1;33m\u001b[0m\u001b[0m\n",
      "\u001b[1;32mY:\\Users\\awyeh\\anaconda3\\envs\\learn-env\\lib\\site-packages\\pandas\\io\\parsers.py\u001b[0m in \u001b[0;36m_make_engine\u001b[1;34m(self, engine)\u001b[0m\n\u001b[0;32m   1133\u001b[0m     \u001b[1;32mdef\u001b[0m \u001b[0m_make_engine\u001b[0m\u001b[1;33m(\u001b[0m\u001b[0mself\u001b[0m\u001b[1;33m,\u001b[0m \u001b[0mengine\u001b[0m\u001b[1;33m=\u001b[0m\u001b[1;34m\"c\"\u001b[0m\u001b[1;33m)\u001b[0m\u001b[1;33m:\u001b[0m\u001b[1;33m\u001b[0m\u001b[1;33m\u001b[0m\u001b[0m\n\u001b[0;32m   1134\u001b[0m         \u001b[1;32mif\u001b[0m \u001b[0mengine\u001b[0m \u001b[1;33m==\u001b[0m \u001b[1;34m\"c\"\u001b[0m\u001b[1;33m:\u001b[0m\u001b[1;33m\u001b[0m\u001b[1;33m\u001b[0m\u001b[0m\n\u001b[1;32m-> 1135\u001b[1;33m             \u001b[0mself\u001b[0m\u001b[1;33m.\u001b[0m\u001b[0m_engine\u001b[0m \u001b[1;33m=\u001b[0m \u001b[0mCParserWrapper\u001b[0m\u001b[1;33m(\u001b[0m\u001b[0mself\u001b[0m\u001b[1;33m.\u001b[0m\u001b[0mf\u001b[0m\u001b[1;33m,\u001b[0m \u001b[1;33m**\u001b[0m\u001b[0mself\u001b[0m\u001b[1;33m.\u001b[0m\u001b[0moptions\u001b[0m\u001b[1;33m)\u001b[0m\u001b[1;33m\u001b[0m\u001b[1;33m\u001b[0m\u001b[0m\n\u001b[0m\u001b[0;32m   1136\u001b[0m         \u001b[1;32melse\u001b[0m\u001b[1;33m:\u001b[0m\u001b[1;33m\u001b[0m\u001b[1;33m\u001b[0m\u001b[0m\n\u001b[0;32m   1137\u001b[0m             \u001b[1;32mif\u001b[0m \u001b[0mengine\u001b[0m \u001b[1;33m==\u001b[0m \u001b[1;34m\"python\"\u001b[0m\u001b[1;33m:\u001b[0m\u001b[1;33m\u001b[0m\u001b[1;33m\u001b[0m\u001b[0m\n",
      "\u001b[1;32mY:\\Users\\awyeh\\anaconda3\\envs\\learn-env\\lib\\site-packages\\pandas\\io\\parsers.py\u001b[0m in \u001b[0;36m__init__\u001b[1;34m(self, src, **kwds)\u001b[0m\n\u001b[0;32m   1915\u001b[0m         \u001b[0mkwds\u001b[0m\u001b[1;33m[\u001b[0m\u001b[1;34m\"usecols\"\u001b[0m\u001b[1;33m]\u001b[0m \u001b[1;33m=\u001b[0m \u001b[0mself\u001b[0m\u001b[1;33m.\u001b[0m\u001b[0musecols\u001b[0m\u001b[1;33m\u001b[0m\u001b[1;33m\u001b[0m\u001b[0m\n\u001b[0;32m   1916\u001b[0m \u001b[1;33m\u001b[0m\u001b[0m\n\u001b[1;32m-> 1917\u001b[1;33m         \u001b[0mself\u001b[0m\u001b[1;33m.\u001b[0m\u001b[0m_reader\u001b[0m \u001b[1;33m=\u001b[0m \u001b[0mparsers\u001b[0m\u001b[1;33m.\u001b[0m\u001b[0mTextReader\u001b[0m\u001b[1;33m(\u001b[0m\u001b[0msrc\u001b[0m\u001b[1;33m,\u001b[0m \u001b[1;33m**\u001b[0m\u001b[0mkwds\u001b[0m\u001b[1;33m)\u001b[0m\u001b[1;33m\u001b[0m\u001b[1;33m\u001b[0m\u001b[0m\n\u001b[0m\u001b[0;32m   1918\u001b[0m         \u001b[0mself\u001b[0m\u001b[1;33m.\u001b[0m\u001b[0munnamed_cols\u001b[0m \u001b[1;33m=\u001b[0m \u001b[0mself\u001b[0m\u001b[1;33m.\u001b[0m\u001b[0m_reader\u001b[0m\u001b[1;33m.\u001b[0m\u001b[0munnamed_cols\u001b[0m\u001b[1;33m\u001b[0m\u001b[1;33m\u001b[0m\u001b[0m\n\u001b[0;32m   1919\u001b[0m \u001b[1;33m\u001b[0m\u001b[0m\n",
      "\u001b[1;32mpandas/_libs/parsers.pyx\u001b[0m in \u001b[0;36mpandas._libs.parsers.TextReader.__cinit__\u001b[1;34m()\u001b[0m\n",
      "\u001b[1;32mpandas/_libs/parsers.pyx\u001b[0m in \u001b[0;36mpandas._libs.parsers.TextReader._setup_parser_source\u001b[1;34m()\u001b[0m\n",
      "\u001b[1;31mFileNotFoundError\u001b[0m: [Errno 2] File b'./data/raw/EXTR_RPSale.csv' does not exist: b'./data/raw/EXTR_RPSale.csv'"
     ]
    }
   ],
   "source": [
    "# Returns df_merged with selected columns from each file. Also, save the contents to ./data/consolidated.csv to load to avoid creating data each time.\n",
    "df_merged = consolidate_data(year=2019, create=False)"
   ]
  },
  {
   "cell_type": "code",
   "execution_count": null,
   "metadata": {},
   "outputs": [],
   "source": [
    "# Cleanup data before building regression model\n",
    "df_merged = data_cleanup(df_merged)"
   ]
  },
  {
   "cell_type": "code",
   "execution_count": null,
   "metadata": {},
   "outputs": [],
   "source": [
    "# Get the pairwise correlation of 'SalePrice' with other factors & a complete correlation matrix\n",
    "corr = data_correlation(df_merged)\n",
    "corr"
   ]
  },
  {
   "cell_type": "code",
   "execution_count": null,
   "metadata": {},
   "outputs": [],
   "source": [
    "# Create heatmap for all factors to get a general idea\n",
    "create_heatmap(df_merged, 'merged_heatmap' )"
   ]
  },
  {
   "cell_type": "code",
   "execution_count": null,
   "metadata": {},
   "outputs": [],
   "source": [
    "# also, create a pairplot .. though not very useful but will help to spot some visual clues\n",
    "# create_pairplot(df_merged, 'merged_pairplot')"
   ]
  },
  {
   "cell_type": "markdown",
   "metadata": {},
   "source": [
    "# create regression models"
   ]
  },
  {
   "cell_type": "code",
   "execution_count": null,
   "metadata": {},
   "outputs": [],
   "source": [
    "x_sqft = ['SalePrice', 'SqFtLot','SqFt1stFloor','SqFtHalfFloor','SqFt2ndFloor', 'SqFtUpperFloor',\\\n",
    "          'SqFtUnfinFull','SqFtUnfinHalf', 'SqFtTotLiving', 'SqFtTotBasement', 'SqFtFinBasement', 'SqFtGarageAttached',\\\n",
    "          'SqFtOpenPorch','SqFtEnclosedPorch', 'SqFtDeck']\n",
    "x_amenity = ['SalePrice', 'NbrLivingUnits', 'Stories','HeatSystem', 'Bedrooms' , 'DaylightBasement',\\\n",
    "            'BathHalfCount', 'Bath3qtrCount', 'BathFullCount', 'FpSingleStory', 'FpMultiStory', 'YrRenovated', 'PcntComplete' ]\n",
    "\n",
    "x_reg = ['SalePrice', 'PrincipalUse','SqFtTotLiving', 'NbrLivingUnits', 'LakeWashington', 'SqFt1stFloor', \\\n",
    " 'TidelandShoreland','BathFullCount','SqFtOpenPorch','SqFtEnclosedPorch','Stories','Bedrooms','Area', 'PropertyClass', 'SqFtLot', 'WfntLocation', \\\n",
    "         'SqFtTotBasement', 'SqFtFinBasement']\n",
    "\n",
    "# x_cat = ['PropType','WfntAccessRights','WfntProximityInfluence','PowerLines','OtherNuisances']\n",
    "x_cat = ['PowerLines', 'DaylightBasement']\n",
    "\n",
    "#For nuisance analysis\n",
    "x_nuisance = ['SalePrice', 'TrafficNoise',  \"PowerLines\", 'OtherNuisances']\n",
    "\n",
    "\n",
    "df_sqft = df_merged[x_sqft]\n",
    "df_amenity = df_merged[x_amenity]\n",
    "df_reg = df_merged[x_reg]\n",
    "df_cat = df_merged[x_cat]\n",
    "\n",
    "df_nuisance = df_merged[x_nuisance]\n",
    "df_porch = df_merged[['SalePrice','SqFtOpenPorch', 'SqFtEnclosedPorch']]"
   ]
  },
  {
   "cell_type": "markdown",
   "metadata": {},
   "source": [
    "> ### Create regression model for all factors that has SqFt characteistics"
   ]
  },
  {
   "cell_type": "code",
   "execution_count": null,
   "metadata": {},
   "outputs": [],
   "source": [
    "# Create heatmap for all factors that has SqFt characteistics\n",
    "create_heatmap(df_sqft, 'sqft_heatmap' )\n",
    "\n",
    "# Create paiplot of all factors that has SqFt characteristics\n",
    "# create_pairplot(df_merged, 'sqft_pairplot')\n",
    "\n",
    "# Run ols regression model\n",
    "run_ols_regression(df_sqft, 'SalePrice')"
   ]
  },
  {
   "cell_type": "markdown",
   "metadata": {},
   "source": [
    "> ### Create regression model with high degree of correlation "
   ]
  },
  {
   "cell_type": "code",
   "execution_count": null,
   "metadata": {},
   "outputs": [],
   "source": [
    "# Create heatmap for all factors that has SqFt characteistics\n",
    "create_heatmap(df_reg, 'sqft_heatmap' )\n",
    "\n",
    "# Create paiplot of all factors that has SqFt characteristics\n",
    "# create_pairplot(df_reg, 'sqft_pairplot')\n",
    "\n",
    "# Run ols regression model\n",
    "run_ols_regression(df_reg, 'SalePrice')"
   ]
  },
  {
   "cell_type": "markdown",
   "metadata": {},
   "source": [
    "> ### Looks, good. We can add a few categorical predictors and check if we hav better R-squared"
   ]
  },
  {
   "cell_type": "code",
   "execution_count": null,
   "metadata": {},
   "outputs": [],
   "source": [
    "# Let's add a categorical\n",
    "#ohe = OneHotEncoder(drop='first', sparse=False)\n",
    "ohe = OneHotEncoder(sparse=False)\n",
    "df_cat_trans = ohe.fit_transform(df_cat)\n",
    "df_cat_t = pd.DataFrame(df_cat_trans, index=df_cat.index, columns=ohe.get_feature_names())\n",
    "df_cat_new = df_reg.join(df_cat_t )\n",
    "\n",
    "# Create heatmap for all factors that has SqFt characteistics\n",
    "create_heatmap(df_cat_new, 'reg_cat_heatmap' )\n",
    "\n",
    "# Create paiplot of all factors that has SqFt characteristics\n",
    "# create_pairplot(df_cat_new, 'reg_cat_pairplot')\n",
    "\n",
    "# Run ols regression model\n",
    "run_ols_regression(df_cat_new, 'SalePrice')"
   ]
  },
  {
   "cell_type": "code",
   "execution_count": null,
   "metadata": {},
   "outputs": [],
   "source": [
    "# Let's go create charts for the amenity features\n",
    "\n",
    "f = plt.figure(figsize=(10, 10))\n",
    "gs = f.add_gridspec(3,2)\n",
    "\n",
    "# 1) Sale Price vs Number of Living Units\n",
    "with sns.axes_style(\"darkgrid\"):\n",
    "    ax = f.add_subplot(gs[0, 0])\n",
    "    sns.barplot(x=df_amenity['NbrLivingUnits'], y=df_amenity['SalePrice']).set( \\\n",
    "                title='Sale Price vs Number of Living Units', \\\n",
    "                xlabel='Number of Living Units', ylabel='Sale Price');\n",
    "\n",
    "# 2) Chart for Number of Stories\n",
    "with sns.axes_style(\"darkgrid\"):\n",
    "    ax = f.add_subplot(gs[0, 1])\n",
    "    sns.barplot(x=df_amenity['Stories'], y=df_amenity['SalePrice']).set( \\\n",
    "            title='Sale Price vs Stories', \n",
    "            xlabel='Stories', ylabel='Sale Price');\n",
    "    \n",
    "# 3) Chart for Daylight Basement\n",
    "with sns.axes_style(\"darkgrid\"):\n",
    "    ax = f.add_subplot(gs[1, 0])\n",
    "    sns.barplot(x=df_amenity['DaylightBasement'], y=df_amenity['SalePrice']).set( \\\n",
    "            title='Sale Price vs Daylight Basement', \\\n",
    "            xlabel='Daylight Basement', ylabel='Sale Price');\n",
    "    \n",
    "# 4) Chart for Heat Systems\n",
    "with sns.axes_style(\"darkgrid\"):\n",
    "    ax = f.add_subplot(gs[1, 1])    \n",
    "    sns.barplot(x=df_amenity['HeatSystem'], y=df_amenity['SalePrice']).set( \\\n",
    "            title='Sale Price vs Heat Systems', \\\n",
    "            xlabel='Heat System', ylabel='Sale Price');\n",
    "    \n",
    "# 5) Chart for Number of Bedrooms\n",
    "with sns.axes_style(\"darkgrid\"):\n",
    "    ax = f.add_subplot(gs[2,0])\n",
    "    sns.barplot(x=df_amenity['Bedrooms'], y=df_amenity['SalePrice']).set( \\\n",
    "            title='Single Family: Sale Price vs Bedrooms', \\\n",
    "            xlabel='Bedrooms', ylabel='Sale Price');\n",
    "\n",
    "# 6) Chart for Bedrooms\n",
    "with sns.axes_style(\"darkgrid\"):\n",
    "    ax = f.add_subplot(gs[2, 1]) \n",
    "    df_t = df_amenity[df_amenity['YrRenovated'] >= 2010]\n",
    "    sns.barplot(x=df_t['YrRenovated'], y=df_t['SalePrice']).set( \\\n",
    "            title='Sale Price vs Year Renovated', \\\n",
    "            xlabel='Year Renovated', ylabel='Sale Price');\n",
    "f.tight_layout()\n",
    "f.savefig(\"./visualization/amenities.png\")"
   ]
  },
  {
   "cell_type": "code",
   "execution_count": null,
   "metadata": {},
   "outputs": [],
   "source": [
    "# Create lmplots to create regression charts\n",
    "\n",
    "# 1) Sale Price vs Number of Living Units\n",
    "with sns.axes_style(\"darkgrid\"):\n",
    "    ax = f.add_subplot()\n",
    "    sns.lmplot(x=\"SqFtTotLiving\",y=\"SalePrice\",data=df_sqft).set( \\\n",
    "                 title='Sale Price vs SqFt Total Living', \\\n",
    "                 xlabel='SqFt Total Living', ylabel='Sale Price');\n",
    "    plt.show()\n",
    "    f.savefig(\"./visualization/reg-SqFtTotLiving.png\")\n",
    "    \n",
    "# 2) Sale Price vs SqFt Lot size\n",
    "with sns.axes_style(\"darkgrid\"):\n",
    "    ax = f.add_subplot()\n",
    "    sns.lmplot(x=\"SqFtLot\",y=\"SalePrice\",data=df_sqft).set( \\\n",
    "                title='Sale Price vs Lot SqFt', \\\n",
    "                xlabel='Lot SqFt', ylabel='Sale Price');\n",
    "    plt.show()\n",
    "    f.savefig(\"./visualization/reg-SqFtLot.png\")\n",
    "    \n",
    "# 3) Chart SQFt Total Basement\n",
    "with sns.axes_style(\"darkgrid\"):\n",
    "    ax = f.add_subplot()\n",
    "    sns.lmplot(x=\"SqFtTotBasement\",y=\"SalePrice\",data=df_sqft).set( \\\n",
    "                title='Sale Price vs Total Basement(SqFt)', \\\n",
    "                xlabel='Total Basement(SqFt)', ylabel='Sale Price');\n",
    "    plt.show()\n",
    "    f.savefig(\"./visualization/reg-SqFtBasement.png\")\n",
    "\n",
    "# # 4) Chart SQFt Finished Basement\n",
    "with sns.axes_style(\"darkgrid\"):\n",
    "    ax = f.add_subplot()\n",
    "    sns.lmplot(x=\"SqFtFinBasement\",y=\"SalePrice\",data=df_sqft).set( \\\n",
    "                title='Sale Price vs Finished Basement(SqFt)', \\\n",
    "                xlabel='Finished Basement(SqFt)', ylabel='Sale Price');                                                \n",
    "    plt.show()\n",
    "    f.savefig(\"./visualization/reg_SqFtFinBasement.png\")                                                    \n",
    "\n",
    "# # 5) Sale Price vs Number of Living Units\n",
    "with sns.axes_style(\"darkgrid\"):\n",
    "    ax = f.add_subplot()\n",
    "    sns.lmplot(x=\"SqFt1stFloor\",y=\"SalePrice\",data=df_sqft).set( \\\n",
    "                title='Sale Price vs Number of Living Units', \\\n",
    "                xlabel='Number of Living Units', ylabel='Sale Price');  \n",
    "    plt.show()\n",
    "    f.savefig(\"./visualization/reg_SqFt1stFroor.png\")  "
   ]
  },
  {
   "cell_type": "markdown",
   "metadata": {},
   "source": [
    "# 2. Having a porch increases home sale price"
   ]
  },
  {
   "cell_type": "code",
   "execution_count": null,
   "metadata": {},
   "outputs": [],
   "source": [
    "df_porch = df_reg[['SalePrice','SqFtOpenPorch', 'SqFtEnclosedPorch']]"
   ]
  },
  {
   "cell_type": "code",
   "execution_count": null,
   "metadata": {},
   "outputs": [],
   "source": [
    "df_porch['SqFtEnclosedPorch'].describe() "
   ]
  },
  {
   "cell_type": "code",
   "execution_count": null,
   "metadata": {},
   "outputs": [],
   "source": [
    "df_porch['SqFtOpenPorch'].describe()"
   ]
  },
  {
   "cell_type": "code",
   "execution_count": null,
   "metadata": {},
   "outputs": [],
   "source": [
    "create_scatterplot_df(df_porch, \"porch\")"
   ]
  },
  {
   "cell_type": "code",
   "execution_count": null,
   "metadata": {},
   "outputs": [],
   "source": [
    "create_boxplot(df_porch, 'SqFtOpenPorch')"
   ]
  },
  {
   "cell_type": "code",
   "execution_count": null,
   "metadata": {},
   "outputs": [],
   "source": [
    "create_boxplot(df_porch, 'SqFtEnclosedPorch')"
   ]
  },
  {
   "cell_type": "code",
   "execution_count": null,
   "metadata": {},
   "outputs": [],
   "source": [
    "df_porch['TotalPorch'] = df_porch['SqFtEnclosedPorch'] + df_porch['SqFtOpenPorch']"
   ]
  },
  {
   "cell_type": "code",
   "execution_count": null,
   "metadata": {},
   "outputs": [],
   "source": [
    "create_scatterplot(df_porch, 'TotalPorch', 'SalePrice', 'scatter_SalePrice_TotalPorcjh')"
   ]
  },
  {
   "cell_type": "code",
   "execution_count": null,
   "metadata": {},
   "outputs": [],
   "source": [
    "create_scatterplot(df_porch, \"SqFtEnclosedPorch\", \"SalePrice\", 'saleprice_sqftEnclosedPorch' )"
   ]
  },
  {
   "cell_type": "code",
   "execution_count": null,
   "metadata": {},
   "outputs": [],
   "source": [
    "df_porch.sort_values(by=['SqFtOpenPorch'], ascending = False)\n",
    "df_porch.sort_values(by=['SqFtEnclosedPorch'], ascending = False)\n"
   ]
  },
  {
   "cell_type": "code",
   "execution_count": null,
   "metadata": {},
   "outputs": [],
   "source": [
    "create_scatterplot(df_porch, \"SqFtEnclosedPorch\", \"SqFtOpenPorch\", 'SqFtEnc_SqFtOpen' )"
   ]
  },
  {
   "cell_type": "code",
   "execution_count": null,
   "metadata": {},
   "outputs": [],
   "source": [
    "porch_vs_house_price(df_porch)"
   ]
  },
  {
   "cell_type": "markdown",
   "metadata": {},
   "source": [
    "# 3) Having a beachfront or lakefront increases home sale price"
   ]
  },
  {
   "cell_type": "code",
   "execution_count": null,
   "metadata": {},
   "outputs": [],
   "source": []
  },
  {
   "cell_type": "code",
   "execution_count": null,
   "metadata": {},
   "outputs": [],
   "source": [
    "water_front_sales(df_merged)"
   ]
  },
  {
   "cell_type": "markdown",
   "metadata": {},
   "source": [
    "## 3) Nuisance factors reduce the sale price of houses"
   ]
  },
  {
   "cell_type": "code",
   "execution_count": null,
   "metadata": {},
   "outputs": [],
   "source": [
    "# Create heatmap for all factors that has SqFt characteistics\n",
    "#create_heatmap(df_nuisance, 'nuisance_heatmap' )\n",
    "\n",
    "# Create paiplot of all factors that has SqFt characteristics\n",
    "#create_pairplot(df_nuisance, 'nuisance_pairplot')\n",
    "\n"
   ]
  },
  {
   "cell_type": "code",
   "execution_count": null,
   "metadata": {},
   "outputs": [],
   "source": []
  }
 ],
 "metadata": {
  "kernelspec": {
   "display_name": "Python 3",
   "language": "python",
   "name": "python3"
  },
  "language_info": {
   "codemirror_mode": {
    "name": "ipython",
    "version": 3
   },
   "file_extension": ".py",
   "mimetype": "text/x-python",
   "name": "python",
   "nbconvert_exporter": "python",
   "pygments_lexer": "ipython3",
   "version": "3.6.9"
  }
 },
 "nbformat": 4,
 "nbformat_minor": 4
}
