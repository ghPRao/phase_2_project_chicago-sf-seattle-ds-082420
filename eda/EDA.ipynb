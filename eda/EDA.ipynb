{
 "cells": [
  {
   "cell_type": "markdown",
   "metadata": {},
   "source": [
    "# Some potential audiences are:\n",
    "\n",
    "1. Homeowners who want to increase the sale price of their homes through home improvement projects\n",
    "2. Advocacy groups who want to promote affordable housing\n",
    "3. Local elected officials who want to understand how their policy ideas (e.g. zoning changes, permitting) might impact home prices\n",
    "4. Real estate investors looking for potential \"fixer-uppers\" or \"tear-downs\""
   ]
  },
  {
   "cell_type": "markdown",
   "metadata": {},
   "source": [
    "# Three things to be sure you establish during this phase are:\n",
    "\n",
    "1. **Objectives:** what questions are you trying to answer, and for whom?\n",
    "2. **Project plan:** you may want to establish more formal project management practices, such as daily stand-ups or using a Trello board, to plan the time you have remaining. Regardless, you should determine the division of labor, communication expectations, and timeline.\n",
    "3. **Success criteria:** what does a successful project look like? How will you know when you have achieved it?"
   ]
  },
  {
   "cell_type": "markdown",
   "metadata": {},
   "source": [
    "# READ THIS: Import the following data files from https://info.kingcounty.gov/assessor/DataDownload/default.aspx\n",
    "## Download the files to local repo data directory\n",
    "> 1) Real Property Sales (.ZIP, csv) <BR>\n",
    "> 2) Parcel (.ZIP, csv) <BR>\n",
    "> 3) Residential Building (.ZIP, csv) <BR>\n",
    "> 4) Unit Breakdown (.ZIP)<BR>"
   ]
  },
  {
   "cell_type": "code",
   "execution_count": 1,
   "metadata": {},
   "outputs": [],
   "source": [
    "## Create a function get_data(create_csv)\n",
    "## If create_csv = True:\n",
    "##.   create a combined file rp_cons.csv from other csv files and return a dataframe rp_cons\n",
    "## If create_csv = False:\n",
    "##    return a data_frame with all columns from rp_cons.csv\n",
    "\n",
    "import pandas as pd\n",
    "\n",
    "def get_data (create_csv):\n",
    "\n",
    "    if create_csv == False:    \n",
    "        rp_cons = pd.read_csv(\"data/rp_cons.csv\")   \n",
    "    return rp_cons\n",
    "    \n",
    "    df_rp_sales = get_sale()\n",
    "    df_parcel = get_parcel()\n",
    "    df_res_bldg = get_resBldg()\n",
    "    df_unit_breakdown = get_unit_breakdown()\n",
    "    \n",
    "    return df_rpsales"
   ]
  },
  {
   "cell_type": "markdown",
   "metadata": {},
   "source": [
    "### 1) Read EXTR_RPSale.csv "
   ]
  },
  {
   "cell_type": "code",
   "execution_count": 5,
   "metadata": {},
   "outputs": [],
   "source": [
    "# Data File: EXTR_RPSale.csv -------------------------------------------------------------\n",
    "#Table: EXTR_RPSale \n",
    "#Keys: Major, Minor\n",
    "#Fields: SalePrice, PropertyType, PrincipalUse\n",
    "def get_sale():\n",
    "    df_rp_sales = pd.read_csv('data/EXTR_RPSale.csv', encoding = \"ISO-8859-1\", low_memory=False)\n",
    "    print(\"Before Filer EXTR_RPSale.csv: \", df_rp_sales.shape)\n",
    "\n",
    "    # Filter the following columns from EXTR_RPsale table\n",
    "    # Primary key: 'Major', 'Minor' \n",
    "    # Select Fields: 'DocumentDate', 'SalePrice', 'PropertyType', 'PrincipalUse', 'PropertyClass\n",
    "    cols = list(df_rp_sales.columns)\n",
    "    df_rp_sales = df_rp_sales[cols[1:5] + cols[14:16] + cols[22:23]]\n",
    "    print(\"After Filer EXTR_RPSale.csv: \", df_rp_sales.shape)  \n",
    "    return df_rp_sales"
   ]
  },
  {
   "cell_type": "markdown",
   "metadata": {},
   "source": [
    "### 2) Read EXTR_Parcel.csv "
   ]
  },
  {
   "cell_type": "code",
   "execution_count": 4,
   "metadata": {},
   "outputs": [],
   "source": [
    "#Data File: EXTR_Parcel.csv\n",
    "#Table: EXTR_Parcel\n",
    "#Keys: Major, Minor\n",
    "#Fields: PropType, Area, SubArea,DistrictName, SqFtLot, WaterSystem, SewerSystem, Access, WaterProblems, AirportNoise, TrafficNoise,PowerLines,  LandSlideHazard, SeismicHazard\n",
    "\n",
    "def get_parcel():\n",
    "    df_parcel = pd.read_csv('data/EXTR_Parcel.csv', encoding = \"ISO-8859-1\", low_memory=False)\n",
    "    print(\"Before EXTR_Parcel.csv: \", df_parcel.shape)\n",
    "    df_parcel.columns\n",
    "    \n",
    "    # Filter the following columns from EXTR_Parcel table\n",
    "    # Primary key: 'Major', 'Minor' \n",
    "    # Select Fields: PropType, Area, SubArea, DistrictName, SqFtLot, WaterSystem, SewerSystem, Access, WaterProblems, AirportNoise, TrafficNoise,PowerLines,  LandSlideHazard, SeismicHazard\n",
    "    cols = list(df_parcel.columns)\n",
    "    df_par = df_parcel[cols[:2] + cols[10:11] + cols[15:16]]  ######## Change this\n",
    "    \n",
    "    print(\"After Filer EXTR_Parcel.csv: \", df_par.shape)\n",
    "    return df_parcel"
   ]
  },
  {
   "cell_type": "markdown",
   "metadata": {},
   "source": [
    "### 3) Read EXTR_ResBldg.csv "
   ]
  },
  {
   "cell_type": "code",
   "execution_count": 6,
   "metadata": {},
   "outputs": [],
   "source": [
    "#Data File: EXTR_ResBldg.csv\n",
    "#Table: EXTR_ResBldg\n",
    "#Keys: Major, Minor\n",
    "#Fields: BldgNbr, NbrLivingUnits, Address, BuildingNumber, Stories, BldgGrade, SqFt1stFloor, SqFtHalfFloor, SqFt2ndFloor, SqFtUpperFloor, SqFtTotLiving, SqFtTotBasement, SqFtFinBasement, SqFtOpenPorch, SqFtEnclosedPorch, SqFtDeck, HeatSystem, HeatSource, Bedrooms, BathHafCouunt, Bath3qtrCount, BathFullCount, FpSingleStory, FpMultiStory, YrBuilt, YrRenovated \n",
    "def get_resBldg():\n",
    "    df_res_bldg = pd.read_csv('data/EXTR_ResBldg.csv', encoding = \"ISO-8859-1\", low_memory=False)\n",
    "    print(\"EXTR_ResBldg.csv: \", df_res_bldg.shape)\n",
    "\n",
    "    # Filter the following columns from EXTR_Parcel table\n",
    "    # Primary key: 'Major', 'Minor' \n",
    "    # Select Fields: PropType, Area, SubArea, DistrictName, SqFtLot, WaterSystem, SewerSystem, Access, WaterProblems, AirportNoise, TrafficNoise,PowerLines,  LandSlideHazard, SeismicHazard\n",
    "    cols = list(df_parcel.columns)\n",
    "    df_res_bldg = df_res_bldg[cols[:2] + cols[10:11] + cols[15:16]]  ######## Change this    \n",
    "    print(\"After Filer EXTR_Parcel.csv: \", df_res_bldg.shape)\n",
    "    \n",
    "    return df_res_bldg"
   ]
  },
  {
   "cell_type": "markdown",
   "metadata": {},
   "source": [
    "### 4) Read EXTR_ResBldg.csv "
   ]
  },
  {
   "cell_type": "code",
   "execution_count": 7,
   "metadata": {},
   "outputs": [],
   "source": [
    "#Data File: EXTR_UnitBreakdown.csv\n",
    "#Table: EXTR_UnitBreakdown\n",
    "#Keys: Major, Minor\n",
    "#Fields:  'UnitTypeItemId', 'NbrThisType', 'SqFt','NbrBedrooms', 'NbrBaths'\n",
    "def get_unitbreakdown():\n",
    "    df_unit_breakdown = pd.read_csv('data/EXTR_UnitBreakdown.csv', encoding = \"ISO-8859-1\", low_memory=False)\n",
    "    print(\"EXTR_UnitBreakdown: \", df_unit_breakdown.shape)\n",
    "    \n",
    "    ###todo extract column\n",
    "    return df_unit_breakdown"
   ]
  },
  {
   "cell_type": "code",
   "execution_count": null,
   "metadata": {},
   "outputs": [],
   "source": []
  },
  {
   "cell_type": "code",
   "execution_count": null,
   "metadata": {},
   "outputs": [],
   "source": []
  },
  {
   "cell_type": "code",
   "execution_count": null,
   "metadata": {},
   "outputs": [],
   "source": []
  },
  {
   "cell_type": "code",
   "execution_count": null,
   "metadata": {},
   "outputs": [],
   "source": []
  },
  {
   "cell_type": "code",
   "execution_count": null,
   "metadata": {},
   "outputs": [],
   "source": []
  },
  {
   "cell_type": "code",
   "execution_count": null,
   "metadata": {},
   "outputs": [],
   "source": []
  }
 ],
 "metadata": {
  "kernelspec": {
   "display_name": "Python (linreg_env)",
   "language": "python",
   "name": "linreg-env"
  },
  "language_info": {
   "codemirror_mode": {
    "name": "ipython",
    "version": 3
   },
   "file_extension": ".py",
   "mimetype": "text/x-python",
   "name": "python",
   "nbconvert_exporter": "python",
   "pygments_lexer": "ipython3",
   "version": "3.6.9"
  }
 },
 "nbformat": 4,
 "nbformat_minor": 4
}
