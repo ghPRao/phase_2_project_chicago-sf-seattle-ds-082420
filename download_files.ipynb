{
 "cells": [
  {
   "cell_type": "code",
   "execution_count": null,
   "metadata": {},
   "outputs": [],
   "source": [
    "import os\n",
    "import sys\n",
    "import pathlib"
   ]
  },
  {
   "cell_type": "code",
   "execution_count": 21,
   "metadata": {},
   "outputs": [],
   "source": [
    "# Download 'Real Property Sales.zip'\n",
    "#! wget -P ../../data/raw \"https://aqua.kingcounty.gov/extranet/assessor/Real Property Sales.zip\"\n",
    "#! unzip -d ../../data/raw \"../../data/raw/Real Property Sales.zip\""
   ]
  },
  {
   "cell_type": "code",
   "execution_count": 22,
   "metadata": {},
   "outputs": [],
   "source": [
    "# Download 'Parcel.zip'\n",
    "#!wget -P ../../data/raw \"https://aqua.kingcounty.gov/extranet/assessor/Parcel.zip\"\n",
    "#! unzip -d ../../data/raw ../../data/raw/Parcel.zip"
   ]
  },
  {
   "cell_type": "code",
   "execution_count": 23,
   "metadata": {},
   "outputs": [],
   "source": [
    "# Download 'Parcel.zip'\n",
    "#!wget -P ../../data/raw \"https://aqua.kingcounty.gov/extranet/assessor/Parcel.zip\"\n",
    "#! unzip -d ../../data/raw ../../data/raw/Parcel.zip"
   ]
  },
  {
   "cell_type": "code",
   "execution_count": 24,
   "metadata": {},
   "outputs": [],
   "source": [
    "# Download 'Lookup.zip'\n",
    "#!wget -P ../../data/raw https://aqua.kingcounty.gov/extranet/assessor/Lookup.zip \n",
    "#! unzip -d ../../data/raw ../../data/raw/Lookup.zip"
   ]
  },
  {
   "cell_type": "code",
   "execution_count": null,
   "metadata": {},
   "outputs": [],
   "source": [
    "#  def download_if_not_there(fn,url):  \n",
    "#     filename = '../data/raw/'+fn \n",
    "#     if os.path.isfile(filename):\n",
    "#         print(filename, ' already downloaded.')\n",
    "#     else:\n",
    "#         print(\"Downloading \",filename)\n",
    "#         print(\"url: \", '\"'+url+'\"\"')\n",
    "#         !wget -P ../data/raw url\n",
    "#         !unzip filename\n",
    "#     return None\n",
    "\n",
    "# url = \"https://aqua.kingcounty.gov/extranet/assessor/Real%20Property%20Sales.zip\"\n",
    "# download_if_not_there('Real Property Sales.zip', url)"
   ]
  }
 ],
 "metadata": {
  "kernelspec": {
   "display_name": "Python 3",
   "language": "python",
   "name": "python3"
  },
  "language_info": {
   "codemirror_mode": {
    "name": "ipython",
    "version": 3
   },
   "file_extension": ".py",
   "mimetype": "text/x-python",
   "name": "python",
   "nbconvert_exporter": "python",
   "pygments_lexer": "ipython3",
   "version": "3.6.9"
  }
 },
 "nbformat": 4,
 "nbformat_minor": 4
}
