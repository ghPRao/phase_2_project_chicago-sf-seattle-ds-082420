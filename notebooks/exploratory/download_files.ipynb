{
 "cells": [
  {
   "cell_type": "code",
   "execution_count": null,
   "metadata": {},
   "outputs": [],
   "source": [
    "import os\n",
    "import sys\n",
    "import pathlib"
   ]
  },
  {
   "cell_type": "code",
   "execution_count": 1,
   "metadata": {},
   "outputs": [
    {
     "name": "stdout",
     "output_type": "stream",
     "text": [
      "--2020-10-05 05:40:42--  https://aqua.kingcounty.gov/extranet/assessor/Real%20Property%20Sales.zip\n",
      "Resolving aqua.kingcounty.gov (aqua.kingcounty.gov)... 146.129.240.28\n",
      "Connecting to aqua.kingcounty.gov (aqua.kingcounty.gov)|146.129.240.28|:443... connected.\n",
      "HTTP request sent, awaiting response... 200 OK\n",
      "Length: 129808057 (124M) [application/x-zip-compressed]\n",
      "Saving to: ‘../../data/raw/Real Property Sales.zip’\n",
      "\n",
      "Real Property Sales 100%[===================>] 123.79M   878KB/s    in 2m 37s  \n",
      "\n",
      "2020-10-05 05:43:20 (809 KB/s) - ‘../../data/raw/Real Property Sales.zip’ saved [129808057/129808057]\n",
      "\n",
      "Archive:  ../../data/raw/Real Property Sales.zip\n",
      "  inflating: ../../data/raw/EXTR_RPSale.csv  \n"
     ]
    }
   ],
   "source": [
    "# Download 'Real Property Sales.zip'\n",
    "! wget -P ../../data/raw \"https://aqua.kingcounty.gov/extranet/assessor/Real Property Sales.zip\"\n",
    "! unzip -d ../../data/raw \"../../data/raw/Real Property Sales.zip\""
   ]
  },
  {
   "cell_type": "code",
   "execution_count": 3,
   "metadata": {},
   "outputs": [
    {
     "name": "stdout",
     "output_type": "stream",
     "text": [
      "--2020-10-05 05:43:42--  https://aqua.kingcounty.gov/extranet/assessor/Parcel.zip\n",
      "Resolving aqua.kingcounty.gov (aqua.kingcounty.gov)... 146.129.240.28\n",
      "Connecting to aqua.kingcounty.gov (aqua.kingcounty.gov)|146.129.240.28|:443... connected.\n",
      "HTTP request sent, awaiting response... 200 OK\n",
      "Length: 30539827 (29M) [application/x-zip-compressed]\n",
      "Saving to: ‘../../data/raw/Parcel.zip’\n",
      "\n",
      "Parcel.zip          100%[===================>]  29.12M   865KB/s    in 46s     \n",
      "\n",
      "2020-10-05 05:44:28 (655 KB/s) - ‘../../data/raw/Parcel.zip’ saved [30539827/30539827]\n",
      "\n",
      "Archive:  ../../data/raw/Parcel.zip\n",
      "  inflating: ../../data/raw/EXTR_Parcel.csv  \n"
     ]
    }
   ],
   "source": [
    "# Download 'Parcel.zip'\n",
    "!wget -P ../../data/raw \"https://aqua.kingcounty.gov/extranet/assessor/Parcel.zip\"\n",
    "! unzip -d ../../data/raw ../../data/raw/Parcel.zip"
   ]
  },
  {
   "cell_type": "code",
   "execution_count": 5,
   "metadata": {},
   "outputs": [
    {
     "name": "stdout",
     "output_type": "stream",
     "text": [
      "Archive:  ../../data/raw/Residential Building.zip\n",
      "  inflating: ../../data/raw/EXTR_ResBldg.csv  \n"
     ]
    }
   ],
   "source": [
    "# Download 'Residential Building.zip'\n",
    "#!wget -P ../../data/raw \"https://aqua.kingcounty.gov/extranet/assessor/Residential%20Building.zip\"\n",
    "! unzip -d ../../data/raw \"../../data/raw/Residential Building.zip\""
   ]
  },
  {
   "cell_type": "code",
   "execution_count": 6,
   "metadata": {},
   "outputs": [
    {
     "name": "stdout",
     "output_type": "stream",
     "text": [
      "--2020-10-05 05:45:42--  https://aqua.kingcounty.gov/extranet/assessor/Lookup.zip\n",
      "Resolving aqua.kingcounty.gov (aqua.kingcounty.gov)... 146.129.240.28\n",
      "Connecting to aqua.kingcounty.gov (aqua.kingcounty.gov)|146.129.240.28|:443... connected.\n",
      "HTTP request sent, awaiting response... 200 OK\n",
      "Length: 16120 (16K) [application/x-zip-compressed]\n",
      "Saving to: ‘../../data/raw/Lookup.zip’\n",
      "\n",
      "Lookup.zip          100%[===================>]  15.74K  --.-KB/s    in 0s      \n",
      "\n",
      "2020-10-05 05:45:42 (46.3 MB/s) - ‘../../data/raw/Lookup.zip’ saved [16120/16120]\n",
      "\n",
      "Archive:  ../../data/raw/Lookup.zip\n",
      "  inflating: ../../data/raw/EXTR_LookUp.csv  \n"
     ]
    }
   ],
   "source": [
    "# Download 'Lookup.zip'\n",
    "!wget -P ../../data/raw https://aqua.kingcounty.gov/extranet/assessor/Lookup.zip \n",
    "! unzip -d ../../data/raw ../../data/raw/Lookup.zip"
   ]
  },
  {
   "cell_type": "code",
   "execution_count": null,
   "metadata": {},
   "outputs": [],
   "source": []
  }
 ],
 "metadata": {
  "kernelspec": {
   "display_name": "Python 3",
   "language": "python",
   "name": "python3"
  },
  "language_info": {
   "codemirror_mode": {
    "name": "ipython",
    "version": 3
   },
   "file_extension": ".py",
   "mimetype": "text/x-python",
   "name": "python",
   "nbconvert_exporter": "python",
   "pygments_lexer": "ipython3",
   "version": "3.6.9"
  }
 },
 "nbformat": 4,
 "nbformat_minor": 4
}
