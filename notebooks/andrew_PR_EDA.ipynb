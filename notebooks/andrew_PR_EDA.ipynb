{
 "cells": [
  {
   "cell_type": "markdown",
   "metadata": {},
   "source": [
    "# Some potential audiences are:\n",
    "\n",
    "1. Homeowners who want to increase the sale price of their homes through home improvement projects\n",
    "2. Advocacy groups who want to promote affordable housing\n",
    "3. Local elected officials who want to understand how their policy ideas (e.g. zoning changes, permitting) might impact home prices\n",
    "4. Real estate investors looking for potential \"fixer-uppers\" or \"tear-downs\""
   ]
  },
  {
   "cell_type": "markdown",
   "metadata": {},
   "source": [
    "# Three things to be sure you establish during this phase are:\n",
    "\n",
    "1. **Objectives:** what questions are you trying to answer, and for whom?\n",
    "2. **Project plan:** you may want to establish more formal project management practices, such as daily stand-ups or using a Trello board, to plan the time you have remaining. Regardless, you should determine the division of labor, communication expectations, and timeline.\n",
    "3. **Success criteria:** what does a successful project look like? How will you know when you have achieved it?"
   ]
  },
  {
   "cell_type": "markdown",
   "metadata": {},
   "source": [
    "# READ THIS: Import the following data files from https://info.kingcounty.gov/assessor/DataDownload/default.aspx\n",
    "## Download the files to local repo data directory\n",
    "> 1) Real Property Sales (.ZIP, csv) <BR>\n",
    "> 2) Parcel (.ZIP, csv) <BR>\n",
    "> 3) Residential Building (.ZIP, csv) <BR>\n",
    "> 4) Unit Breakdown (.ZIP)<BR>\n"
   ]
  },
  {
   "cell_type": "code",
   "execution_count": 2,
   "metadata": {},
   "outputs": [
    {
     "ename": "ValueError",
     "evalue": "attempted relative import beyond top-level package",
     "output_type": "error",
     "traceback": [
      "\u001b[1;31m---------------------------------------------------------------------------\u001b[0m",
      "\u001b[1;31mValueError\u001b[0m                                Traceback (most recent call last)",
      "\u001b[1;32m<ipython-input-2-066b4fb8dbb2>\u001b[0m in \u001b[0;36m<module>\u001b[1;34m\u001b[0m\n\u001b[0;32m     14\u001b[0m \u001b[1;32mfrom\u001b[0m \u001b[0mstatsmodels\u001b[0m\u001b[1;33m.\u001b[0m\u001b[0mstats\u001b[0m\u001b[1;33m.\u001b[0m\u001b[0moutliers_influence\u001b[0m \u001b[1;32mimport\u001b[0m \u001b[0mvariance_inflation_factor\u001b[0m\u001b[1;33m\u001b[0m\u001b[1;33m\u001b[0m\u001b[0m\n\u001b[0;32m     15\u001b[0m \u001b[1;33m\u001b[0m\u001b[0m\n\u001b[1;32m---> 16\u001b[1;33m \u001b[1;32mfrom\u001b[0m \u001b[1;33m.\u001b[0m\u001b[1;33m.\u001b[0m\u001b[0meda\u001b[0m\u001b[1;33m.\u001b[0m\u001b[0meda\u001b[0m \u001b[1;32mimport\u001b[0m \u001b[1;33m*\u001b[0m\u001b[1;33m\u001b[0m\u001b[1;33m\u001b[0m\u001b[0m\n\u001b[0m\u001b[0;32m     17\u001b[0m \u001b[1;31m# from lr_model.build_lr import *\u001b[0m\u001b[1;33m\u001b[0m\u001b[1;33m\u001b[0m\u001b[1;33m\u001b[0m\u001b[0m\n\u001b[0;32m     18\u001b[0m \u001b[1;33m\u001b[0m\u001b[0m\n",
      "\u001b[1;31mValueError\u001b[0m: attempted relative import beyond top-level package"
     ]
    }
   ],
   "source": [
    "import os\n",
    "import sys\n",
    "\n",
    "import pandas as pd\n",
    "import numpy as np\n",
    "\n",
    "import matplotlib.pyplot as plt\n",
    "import seaborn as sns\n",
    "\n",
    "import statsmodels\n",
    "import statsmodels.api as sm\n",
    "from statsmodels.formula.api import ols\n",
    "from statsmodels.stats.diagnostic import linear_rainbow, het_breuschpagan\n",
    "from statsmodels.stats.outliers_influence import variance_inflation_factor\n",
    "\n",
    "from eda.eda import *\n",
    "# from lr_model.build_lr import *\n",
    "\n",
    "sns.set_style(\"whitegrid\")\n",
    "sns.set_context(\"poster\")\n"
   ]
  },
  {
   "cell_type": "markdown",
   "metadata": {},
   "source": [
    "### Andrew's scratchwork below:\n",
    "____"
   ]
  },
  {
   "cell_type": "code",
   "execution_count": null,
   "metadata": {},
   "outputs": [],
   "source": [
    "df_merged = consolidate_data(year=2019, create=True)"
   ]
  },
  {
   "cell_type": "code",
   "execution_count": null,
   "metadata": {},
   "outputs": [],
   "source": [
    "cols = list(df_merged.columns)\n",
    "cols = cols[2:4]  + cols[7:8] + cols[10:11] + cols[14:18] + cols[27:30] + cols[38:41] + cols[42:43] + cols[44:47] \n",
    "df = df_merged[cols] "
   ]
  },
  {
   "cell_type": "code",
   "execution_count": null,
   "metadata": {},
   "outputs": [],
   "source": [
    "df = df_merged.copy()\n",
    "df = df.dropna()\n",
    "df = df[df['SalePrice'] != -300]\n",
    "df = df[df['SalePrice'] != -100]\n",
    "df.reset_index(drop = True, inplace = True)\n",
    "# df.drop(columns = ['DocumentDate', 'DistrictName', 'Address', 'Merged_Key', 'PropertyType'], inplace = True)\n",
    "print(df.shape)\n",
    "df.head()\n"
   ]
  },
  {
   "cell_type": "code",
   "execution_count": null,
   "metadata": {},
   "outputs": [],
   "source": [
    "df.info()"
   ]
  },
  {
   "cell_type": "code",
   "execution_count": null,
   "metadata": {},
   "outputs": [],
   "source": [
    "df.corr()"
   ]
  },
  {
   "cell_type": "code",
   "execution_count": null,
   "metadata": {},
   "outputs": [],
   "source": [
    "col = []\n",
    "dic = df_merged.corr()['SalePrice'].to_dict()\n",
    "for x in dic:\n",
    "    if dic[x] >= abs(0.10):\n",
    "        col.append(x)\n",
    "        print(x)"
   ]
  },
  {
   "cell_type": "code",
   "execution_count": null,
   "metadata": {},
   "outputs": [],
   "source": [
    "# # create a smaller df to save space and processing power\n",
    "fsm_df = df_merged[col].copy()\n",
    "fsm_df.dropna(inplace=True)\n",
    "fsm = ols(formula=\"SalePrice ~ NbrLivingUnits + Stories + SqFt1stFloor + SqFt2ndFloor + SqFtTotLiving + SqFtGarageAttached + SqFtOpenPorch + Bedrooms + BathFullCount\", data=fsm_df)\n",
    "fsm_results = fsm.fit()\n",
    "fsm_results.summary()"
   ]
  },
  {
   "cell_type": "code",
   "execution_count": null,
   "metadata": {},
   "outputs": [],
   "source": [
    "# # create a smaller df to save space and processing power\n",
    "fsm_df = df_merged[['SalePrice', 'SqFt1stFloor', 'SqFt2ndFloor', 'SqFtTotLiving', 'SqFtGarageAttached','SqFtGarageAttached','SqFtOpenPorch','SqFtEnclosedPorch','Bedrooms','BathHalfCount','BathFullCount']].copy()\n",
    "fsm_df.dropna(inplace=True)\n",
    "fsm = ols(formula=\"SalePrice ~ SqFt1stFloor + SqFt2ndFloor + SqFtTotLiving + SqFtGarageAttached + SqFtGarageAttached + SqFtOpenPorch + SqFtEnclosedPorch + Bedrooms + BathHalfCount + BathFullCount\", data=fsm_df)\n",
    "fsm_results = fsm.fit()\n",
    "fsm_results.summary()"
   ]
  },
  {
   "cell_type": "code",
   "execution_count": null,
   "metadata": {},
   "outputs": [],
   "source": [
    "df"
   ]
  },
  {
   "cell_type": "code",
   "execution_count": null,
   "metadata": {},
   "outputs": [],
   "source": [
    "df.select_dtypes(include = 'object').head()"
   ]
  },
  {
   "cell_type": "code",
   "execution_count": null,
   "metadata": {},
   "outputs": [],
   "source": [
    "def dummying(df, col_name, keep = True):\n",
    "    if col_name in df.columns:\n",
    "        label_encoder = LabelEncoder()\n",
    "        status_labels = label_encoder.fit_transform(df[f\"{col_name}\"])\n",
    "        label_encoder.classes_\n",
    "        df[f\"{col_name}_Encoded\"] = status_labels\n",
    "    if keep == False: df.drop(columns = [col_name], inplace = True, errors = 'ignore')\n",
    "    return df"
   ]
  },
  {
   "cell_type": "code",
   "execution_count": null,
   "metadata": {},
   "outputs": [],
   "source": [
    "label_encoder = LabelEncoder()\n",
    "status_labels = label_encoder.fit_transform(df[\"WfntAccessRights\"])\n",
    "label_encoder.classes_\n",
    "df[\"WfntAccessRights_Encoded\"] = status_labels\n",
    "df.drop(columns = [\"WfntAccessRights\"], inplace = True, errors = 'ignore')"
   ]
  },
  {
   "cell_type": "code",
   "execution_count": null,
   "metadata": {},
   "outputs": [],
   "source": [
    "df[\"WfntAccessRights_Encoded\"]"
   ]
  },
  {
   "cell_type": "code",
   "execution_count": null,
   "metadata": {},
   "outputs": [],
   "source": [
    "label_encoder = LabelEncoder()\n",
    "status_labels = label_encoder.fit_transform(df[\"WfntProximityInfluence\"])\n",
    "label_encoder.classes_\n",
    "df[\"WfntProximityInfluence_Encoded\"] = status_labels"
   ]
  },
  {
   "cell_type": "code",
   "execution_count": null,
   "metadata": {},
   "outputs": [],
   "source": [
    "label_encoder = LabelEncoder()\n",
    "status_labels = label_encoder.fit_transform(df[\"PowerLines\"])\n",
    "label_encoder.classes_\n",
    "df[\"PowerLines\"] = status_labels"
   ]
  },
  {
   "cell_type": "code",
   "execution_count": null,
   "metadata": {},
   "outputs": [],
   "source": [
    "label_encoder = LabelEncoder()\n",
    "status_labels = label_encoder.fit_transform(df[\"OtherNuisances\"])\n",
    "label_encoder.classes_\n",
    "df[\"OtherNuisances_Encoded\"] = status_labels"
   ]
  },
  {
   "cell_type": "code",
   "execution_count": null,
   "metadata": {},
   "outputs": [],
   "source": [
    "label_encoder = LabelEncoder()\n",
    "status_labels = label_encoder.fit_transform(df[\"BuildingNumber\"])\n",
    "label_encoder.classes_\n",
    "df[\"BuildingNumber_Encoded\"] = status_labels"
   ]
  },
  {
   "cell_type": "code",
   "execution_count": null,
   "metadata": {},
   "outputs": [],
   "source": [
    "label_encoder = LabelEncoder()\n",
    "status_labels = label_encoder.fit_transform(df[\"ZipCode\"])\n",
    "label_encoder.classes_\n",
    "df[\"ZipCode_Encoded\"] = status_labels"
   ]
  },
  {
   "cell_type": "code",
   "execution_count": null,
   "metadata": {},
   "outputs": [],
   "source": [
    "label_encoder = LabelEncoder()\n",
    "status_labels = label_encoder.fit_transform(df[\"DaylightBasement\"])\n",
    "label_encoder.classes_\n",
    "df[\"DaylightBasement_Encoded\"] = status_labels"
   ]
  },
  {
   "cell_type": "code",
   "execution_count": null,
   "metadata": {},
   "outputs": [],
   "source": [
    "df.corr()"
   ]
  },
  {
   "cell_type": "code",
   "execution_count": null,
   "metadata": {},
   "outputs": [],
   "source": [
    "df.select_dtypes(include = 'object').columns"
   ]
  },
  {
   "cell_type": "code",
   "execution_count": null,
   "metadata": {},
   "outputs": [],
   "source": [
    "def dummying(df, col_name, keep = True):\n",
    "    if col_name in df.columns:\n",
    "        label_encoder = LabelEncoder()\n",
    "        status_labels = label_encoder.fit_transform(df[f\"{col_name}\"])\n",
    "        label_encoder.classes_\n",
    "        df[f\"{col_name}_Encoded\"] = status_labels\n",
    "    if keep == False: df.drop(columns = [col_name], inplace = True, errors = 'ignore')\n",
    "    return df"
   ]
  },
  {
   "cell_type": "code",
   "execution_count": null,
   "metadata": {},
   "outputs": [],
   "source": [
    "def dummying_df(df, keep = True):\n",
    "    cols = df.select_dtypes(include = 'object').columns\n",
    "    label_encoder = LabelEncoder()\n",
    "    for col in cols:\n",
    "        status_labels = label_encoder.fit_transform(df[f\"{col}\"])\n",
    "        df[f\"{col}_Encoded\"] = status_labels\n",
    "        if keep == False: df.drop(columns = [col], inplace = True, errors = 'ignore')\n",
    "    return df"
   ]
  },
  {
   "cell_type": "code",
   "execution_count": null,
   "metadata": {},
   "outputs": [],
   "source": [
    "df.select_dtypes(include = 'object').columns"
   ]
  },
  {
   "cell_type": "code",
   "execution_count": null,
   "metadata": {},
   "outputs": [],
   "source": [
    "df = dummying_df(df, False)"
   ]
  },
  {
   "cell_type": "code",
   "execution_count": null,
   "metadata": {},
   "outputs": [],
   "source": [
    "df.select_dtypes(include = 'object').columns"
   ]
  },
  {
   "cell_type": "code",
   "execution_count": null,
   "metadata": {},
   "outputs": [],
   "source": [
    "df"
   ]
  },
  {
   "cell_type": "code",
   "execution_count": null,
   "metadata": {},
   "outputs": [],
   "source": [
    "df.columns"
   ]
  },
  {
   "cell_type": "markdown",
   "metadata": {},
   "source": [
    "# 2. Having a porch increases home sale price"
   ]
  },
  {
   "cell_type": "code",
   "execution_count": null,
   "metadata": {},
   "outputs": [],
   "source": [
    "df_porch = df[['SalePrice','SqFtOpenPorch', 'SqFtEnclosedPorch']].copy()\n",
    "df_porch.head()"
   ]
  },
  {
   "cell_type": "code",
   "execution_count": null,
   "metadata": {},
   "outputs": [],
   "source": [
    "df_porch['SqFtEnclosedPorch'].describe()"
   ]
  },
  {
   "cell_type": "code",
   "execution_count": null,
   "metadata": {},
   "outputs": [],
   "source": [
    "df_porch['SqFtOpenPorch'].describe()"
   ]
  },
  {
   "cell_type": "code",
   "execution_count": null,
   "metadata": {},
   "outputs": [],
   "source": [
    "sns.scatterplot(data=df_porch, x=\"SqFtEnclosedPorch\", y=\"SqFtOpenPorch\")"
   ]
  },
  {
   "cell_type": "code",
   "execution_count": null,
   "metadata": {},
   "outputs": [],
   "source": [
    "sns.boxplot(df_porch['SqFtOpenPorch'])"
   ]
  },
  {
   "cell_type": "code",
   "execution_count": null,
   "metadata": {},
   "outputs": [],
   "source": [
    "sns.boxplot(df_porch['SqFtEnclosedPorch'])"
   ]
  },
  {
   "cell_type": "code",
   "execution_count": null,
   "metadata": {},
   "outputs": [],
   "source": [
    "# # create a smaller df to save space and processing power\n",
    "fsm_df = df_porch[['SalePrice', 'SqFtEnclosedPorch', 'SqFtOpenPorch']].copy()\n",
    "fsm_df.dropna(inplace=True)\n",
    "fsm = ols(formula=\"SalePrice ~ SqFtEnclosedPorch + SqFtOpenPorch\", data=fsm_df)\n",
    "fsm_results = fsm.fit()\n",
    "fsm_results.summary()"
   ]
  },
  {
   "cell_type": "code",
   "execution_count": null,
   "metadata": {},
   "outputs": [],
   "source": [
    "sns.scatterplot(data=df_porch, x=\"SqFtEnclosedPorch\", y=\"SalePrice\")"
   ]
  },
  {
   "cell_type": "code",
   "execution_count": null,
   "metadata": {},
   "outputs": [],
   "source": [
    "sns.scatterplot(data=df_porch, x=\"SqFtOpenPorch\", y=\"SalePrice\")"
   ]
  },
  {
   "cell_type": "code",
   "execution_count": null,
   "metadata": {},
   "outputs": [],
   "source": [
    "df_porch.sort_values(by=['SqFtOpenPorch'], ascending = False).head()"
   ]
  },
  {
   "cell_type": "code",
   "execution_count": null,
   "metadata": {},
   "outputs": [],
   "source": [
    "df_porch.sort_values(by=['SqFtEnclosedPorch'], ascending = False).head()"
   ]
  },
  {
   "cell_type": "code",
   "execution_count": null,
   "metadata": {},
   "outputs": [],
   "source": [
    "sns.scatterplot(data=df_porch, x=\"SqFtEnclosedPorch\", y=\"SqFtOpenPorch\")"
   ]
  },
  {
   "cell_type": "code",
   "execution_count": null,
   "metadata": {},
   "outputs": [],
   "source": [
    "df_porch['SalePrice'].describe()"
   ]
  },
  {
   "cell_type": "code",
   "execution_count": null,
   "metadata": {},
   "outputs": [],
   "source": [
    "df_porch['SalePrice'].min()"
   ]
  },
  {
   "cell_type": "code",
   "execution_count": null,
   "metadata": {},
   "outputs": [],
   "source": [
    "df_porch = df_porch[df_porch['SalePrice'] != -300]\n",
    "df_porch = df_porch[df_porch['SalePrice'] != -100]"
   ]
  },
  {
   "cell_type": "code",
   "execution_count": null,
   "metadata": {},
   "outputs": [],
   "source": [
    "df_porch['SalePrice'].describe()"
   ]
  },
  {
   "cell_type": "code",
   "execution_count": null,
   "metadata": {},
   "outputs": [],
   "source": [
    "def sale_tier(s):\n",
    "    d = df_porch['SalePrice'].describe()\n",
    "    r = ''\n",
    "    if s >= d['75%']:\n",
    "        r = 'Luxury Housing'\n",
    "    elif s >= d['50%']:\n",
    "        r = 'High-End Housing'\n",
    "    elif s >= d['25%']:\n",
    "        r = 'Medium-End Housing'\n",
    "    else:\n",
    "        r = 'Low-End Housing'\n",
    "    return r"
   ]
  },
  {
   "cell_type": "code",
   "execution_count": null,
   "metadata": {},
   "outputs": [],
   "source": [
    "df_porch['SaleTier'] = df_porch['SalePrice'].apply(lambda x: sale_tier(x))"
   ]
  },
  {
   "cell_type": "code",
   "execution_count": null,
   "metadata": {},
   "outputs": [],
   "source": [
    "sns.set_context(\"notebook\")\n",
    "fig, ax = plt.subplots(figsize=(10, 10))\n",
    "ax = sns.scatterplot(data=df_porch, x=\"SqFtEnclosedPorch\", y=\"SqFtOpenPorch\", hue = 'SaleTier', s=100)"
   ]
  },
  {
   "cell_type": "code",
   "execution_count": null,
   "metadata": {},
   "outputs": [],
   "source": [
    "sns.set_context(\"paper\")\n",
    "fig, ax = plt.subplots(figsize=(10, 10))\n",
    "ax = sns.scatterplot(data=df_porch, x=\"SqFtEnclosedPorch\", y=\"SqFtOpenPorch\", hue = 'SaleTier', s=100)"
   ]
  },
  {
   "cell_type": "code",
   "execution_count": null,
   "metadata": {},
   "outputs": [],
   "source": [
    "sns.set_context(\"talk\")\n",
    "fig, ax = plt.subplots(figsize=(10, 10))\n",
    "ax = sns.scatterplot(data=df_porch, x=\"SqFtEnclosedPorch\", y=\"SqFtOpenPorch\", hue = 'SaleTier', s=100)"
   ]
  },
  {
   "cell_type": "code",
   "execution_count": null,
   "metadata": {},
   "outputs": [],
   "source": [
    "sns.set_context(\"poster\")\n",
    "fig, ax = plt.subplots(figsize=(10, 10))\n",
    "ax = sns.scatterplot(data=df_porch, x=\"SqFtEnclosedPorch\", y=\"SqFtOpenPorch\", hue = 'SaleTier', s=100)"
   ]
  },
  {
   "cell_type": "code",
   "execution_count": null,
   "metadata": {},
   "outputs": [],
   "source": [
    "df_porch['TotalPorch'] = df_porch['SqFtOpenPorch'] + df_porch['SqFtEnclosedPorch']\n",
    "df_porch.head()"
   ]
  },
  {
   "cell_type": "code",
   "execution_count": null,
   "metadata": {},
   "outputs": [],
   "source": [
    "# # create a smaller df to save space and processing power\n",
    "fsm_df = df_porch[['SalePrice', 'TotalPorch']].copy()\n",
    "fsm_df.dropna(inplace=True)\n",
    "fsm = ols(formula=\"SalePrice ~ TotalPorch\", data=fsm_df)\n",
    "fsm_results = fsm.fit()\n",
    "fsm_results.summary()"
   ]
  },
  {
   "cell_type": "code",
   "execution_count": null,
   "metadata": {},
   "outputs": [],
   "source": [
    "fig, ax = plt.subplots(figsize=(10, 10))\n",
    "ax = sns.scatterplot(data=df_porch, x=\"TotalPorch\", y=\"SalePrice\", hue = 'SaleTier', alpha = 0.8, s=500)"
   ]
  },
  {
   "cell_type": "code",
   "execution_count": null,
   "metadata": {},
   "outputs": [],
   "source": [
    "fig, ax = plt.subplots(figsize=(10, 10))\n",
    "ax = sns.scatterplot(data=df_porch, y=\"SqFtEnclosedPorch\", x=\"SqFtOpenPorch\", size = 'SalePrice', hue = 'SaleTier', s=1000)"
   ]
  },
  {
   "cell_type": "code",
   "execution_count": null,
   "metadata": {},
   "outputs": [],
   "source": [
    "x_ticks = ['0', '0.0k', '0.5k', '1.0k', '1.5k', '2.0k', '2.5k', '3.0k']\n",
    "y_ticks = ['0', '0.0k', '0.5k', '1.0k', '1.5k', '2.0k', '2.5k', '3.0k']\n",
    "colors = ['#f47a60', '#ced7d8', '#7fe7dc', '#316879']\n",
    "fig, ax = plt.subplots(figsize=(10, 10))\n",
    "ax = sns.scatterplot(data=df_porch, x=\"SqFtOpenPorch\", y=\"SqFtEnclosedPorch\", hue = 'SaleTier', alpha = 0.8, s=500, palette = colors)\n",
    "ax.set_title(\"House Price compared to Porch Area\")\n",
    "plt.xlim(-90,3000)\n",
    "plt.ylim(-90,3000)\n",
    "ax.set_xlabel('Open Porch Area (SqFt)')\n",
    "ax.set_xticklabels(x_ticks)\n",
    "ax.set_ylabel('Enclosed Porch Area (SqFt)')\n",
    "ax.set_yticklabels(y_ticks)\n",
    "\n",
    "handles, labels = ax.get_legend_handles_labels()\n",
    "handles = [handles[4], handles[3], handles[1], handles[2]]\n",
    "labels = [labels[4], labels[3], labels[1], labels[2]]\n",
    "ax.legend(handles, labels)\n",
    "\n",
    "# figure = ax.get_figure().savefig(\"porch_porch_area\", dpi = 400, bbox_inches = \"tight\")"
   ]
  },
  {
   "cell_type": "code",
   "execution_count": null,
   "metadata": {},
   "outputs": [],
   "source": [
    "False == False"
   ]
  },
  {
   "cell_type": "code",
   "execution_count": null,
   "metadata": {},
   "outputs": [],
   "source": [
    "df_por = df[(df['SqFtOpenPorch'] > 0) | (df['SqFtEnclosedPorch'] > 0)]\n",
    "df_por = df_por[(df_por['SqFtOpenPorch'] > 0) == (df_por['SqFtEnclosedPorch'] > 0)]\n",
    "\n",
    "# x_ticks = ['0', '0.0k', '0.5k', '1.0k', '1.5k', '2.0k', '2.5k', '3.0k']\n",
    "# y_ticks = ['0', '0.0k', '0.5k', '1.0k', '1.5k', '2.0k', '2.5k', '3.0k']\n",
    "# colors = ['#f47a60', '#ced7d8', '#7fe7dc', '#316879']\n",
    "fig, ax = plt.subplots(figsize=(10, 10))\n",
    "ax = sns.scatterplot(data=df_por, x=\"SqFtEnclosedPorch\", y=\"SalePrice\", alpha = 0.8, s=500)\n",
    "\n",
    "ax = sns.scatterplot(data=df_por, x=\"SqFtOpenPorch\", y=\"SalePrice\", alpha = 0.8, s=500)\n",
    "# ax.set_title(\"House Price compared to Porch Area\")\n",
    "# plt.xlim(-90,1500)\n",
    "# plt.ylim(-90,7500000)\n",
    "# ax.set_xlabel('Open Porch Area (SqFt)')\n",
    "# ax.set_xticklabels(x_ticks)\n",
    "# ax.set_ylabel('Enclosed Porch Area (SqFt)')\n",
    "# ax.set_yticklabels(y_ticks)\n",
    "\n",
    "# handles, labels = ax.get_legend_handles_labels()\n",
    "# handles = [handles[4], handles[3], handles[1], handles[2]]\n",
    "# labels = [labels[4], labels[3], labels[1], labels[2]]\n",
    "# ax.legend(handles, labels)\n",
    "\n",
    "# figure = ax.get_figure().savefig(\"porch_porch_area\", dpi = 400, bbox_inches = \"tight\")"
   ]
  },
  {
   "cell_type": "code",
   "execution_count": null,
   "metadata": {},
   "outputs": [],
   "source": [
    "df_por = df.copy()\n",
    "df_por['TotalPorch'] = df_por['SqFtOpenPorch'] + df_por['SqFtEnclosedPorch']\n",
    "df_por = df_por[df_por['TotalPorch'] > 0]\n",
    "\n",
    "# x_ticks = ['0', '0.0k', '0.5k', '1.0k', '1.5k', '2.0k', '2.5k', '3.0k']\n",
    "# y_ticks = ['0', '0.0k', '0.5k', '1.0k', '1.5k', '2.0k', '2.5k', '3.0k']\n",
    "# colors = ['#f47a60', '#ced7d8', '#7fe7dc', '#316879']\n",
    "fig, ax = plt.subplots(figsize=(10, 10))\n",
    "ax = sns.scatterplot(data=df_por, x=\"TotalPorch\", y=\"SalePrice\", alpha = 0.8, s=500)\n",
    "\n",
    "# ax.set_title(\"House Price compared to Porch Area\")\n",
    "# plt.xlim(-90,1500)\n",
    "# plt.ylim(-90,7500000)\n",
    "# ax.set_xlabel('Open Porch Area (SqFt)')\n",
    "# ax.set_xticklabels(x_ticks)\n",
    "# ax.set_ylabel('Enclosed Porch Area (SqFt)')\n",
    "# ax.set_yticklabels(y_ticks)\n",
    "\n",
    "# handles, labels = ax.get_legend_handles_labels()\n",
    "# handles = [handles[4], handles[3], handles[1], handles[2]]\n",
    "# labels = [labels[4], labels[3], labels[1], labels[2]]\n",
    "# ax.legend(handles, labels)\n",
    "\n",
    "# figure = ax.get_figure().savefig(\"porch_porch_area\", dpi = 400, bbox_inches = \"tight\")"
   ]
  },
  {
   "cell_type": "code",
   "execution_count": null,
   "metadata": {},
   "outputs": [],
   "source": [
    "df_por.sort_values(by='TotalPorch', ascending=False)"
   ]
  },
  {
   "cell_type": "code",
   "execution_count": null,
   "metadata": {},
   "outputs": [],
   "source": [
    "def porchyn(p):\n",
    "    if p > 0:\n",
    "        return 1\n",
    "    else:\n",
    "        return 0"
   ]
  },
  {
   "cell_type": "code",
   "execution_count": null,
   "metadata": {},
   "outputs": [],
   "source": [
    "df_porch['Porchyn'] = df_porch['TotalPorch'].apply(lambda x: porchyn(x))\n",
    "df_porch.head()"
   ]
  },
  {
   "cell_type": "code",
   "execution_count": null,
   "metadata": {},
   "outputs": [],
   "source": [
    "df_p = df_porch[df_porch['TotalPorch'] > 0]['SalePrice']\n",
    "df_p"
   ]
  },
  {
   "cell_type": "code",
   "execution_count": null,
   "metadata": {},
   "outputs": [],
   "source": [
    "df_p = df_porch[df_porch['TotalPorch'] > 0]['SalePrice']\n",
    "df_np = df_porch[df_porch['TotalPorch'] == 0]['SalePrice']\n",
    "p_outlier = ( 3 * df_p.std() ) + df_p.mean()\n",
    "np_outlier = ( 3 * df_np.std() ) + df_np.mean()\n",
    "df1 = df_porch[(df_porch['Porchyn'] == 0) & (df_porch['SalePrice'] <= np_outlier)]\n",
    "df2 = df_porch[(df_porch['Porchyn'] == 1) & (df_porch['SalePrice'] <= p_outlier)]\n",
    "df_porch_cheap = df1.append(df2)\n",
    "df_porch_cheap.shape"
   ]
  },
  {
   "cell_type": "code",
   "execution_count": null,
   "metadata": {},
   "outputs": [],
   "source": [
    "# # create a smaller df to save space and processing power\n",
    "fsm_df = df_porch_cheap[['SalePrice', 'Porchyn']].copy()\n",
    "fsm_df.dropna(inplace=True)\n",
    "fsm = ols(formula=\"SalePrice ~ Porchyn\", data=fsm_df)\n",
    "fsm_results = fsm.fit()\n",
    "fsm_results.summary()"
   ]
  },
  {
   "cell_type": "code",
   "execution_count": null,
   "metadata": {},
   "outputs": [],
   "source": [
    "fig, ax = plt.subplots(figsize=(10, 10))\n",
    "bar_colors = ['#aed6dc', '#ff9a8d', '#4a536b']\n",
    "x_ticks = ['House w/o Porch', 'House w/ Porch']\n",
    "y_ticks = ['$0.0 mil', '$0.2 mil', '$0.4 mil', '$0.6 mil', '$0.8 mil', '$1.0 mil']\n",
    "ax = sns.barplot(data = df_porch_cheap, x = \"Porchyn\", y = \"SalePrice\", alpha = 1, palette = bar_colors, ci = 80, zorder = 0)\n",
    "sns.lineplot(data = df_porch_cheap, x = 'Porchyn', y = 'SalePrice', alpha = 1, color = bar_colors[2], zorder = 10)\n",
    "ax.set_title(\"Average Price Increase of a House with a Porch\")\n",
    "plt.ylim(0,1000000)\n",
    "ax.set_xlabel('')\n",
    "ax.set_xticklabels(x_ticks)\n",
    "ax.set_ylabel('')\n",
    "ax.set_yticklabels(y_ticks)\n",
    "plt.show()\n",
    "figure = ax.get_figure().savefig(\"poch_avg_price\", dpi = 400, bbox_inches = \"tight\")"
   ]
  },
  {
   "cell_type": "code",
   "execution_count": null,
   "metadata": {},
   "outputs": [],
   "source": [
    "print(df_porch_cheap[df_porch_cheap['Porchyn'] == 0]['SalePrice'].mean(), df_porch_cheap[df_porch_cheap['Porchyn'] == 1]['SalePrice'].mean())\n",
    "m, n = df_porch_cheap[df_porch_cheap['Porchyn'] == 0]['SalePrice'].mean(), df_porch_cheap[df_porch_cheap['Porchyn'] == 1]['SalePrice'].mean()\n",
    "n/m"
   ]
  },
  {
   "cell_type": "code",
   "execution_count": null,
   "metadata": {},
   "outputs": [],
   "source": [
    "sns.pairplot(df_porch)"
   ]
  },
  {
   "cell_type": "code",
   "execution_count": null,
   "metadata": {},
   "outputs": [],
   "source": [
    "# # create a smaller df to save space and processing power\n",
    "fsm_df = df_porch[['SalePrice', 'Porchyn']].copy()\n",
    "fsm_df.dropna(inplace=True)\n",
    "fsm = ols(formula=\"SalePrice ~ Porchyn\", data=fsm_df)\n",
    "fsm_results = fsm.fit()\n",
    "fsm_results.summary()"
   ]
  },
  {
   "cell_type": "code",
   "execution_count": null,
   "metadata": {},
   "outputs": [],
   "source": [
    "df_p = df_porch[df_porch['TotalPorch'] > 0]['SalePrice'].reset_index(drop = True)\n",
    "df_np = df_porch[df_porch['TotalPorch'] == 0]['SalePrice'].reset_index(drop = True)"
   ]
  },
  {
   "cell_type": "code",
   "execution_count": null,
   "metadata": {},
   "outputs": [],
   "source": [
    "fig, ax = plt.subplots(figsize=(10, 10))\n",
    "ax = sns.boxplot(df_p)\n",
    "ax.set(xlim=(0, 10000000), ylim = (-0.5,0.5))"
   ]
  },
  {
   "cell_type": "code",
   "execution_count": null,
   "metadata": {},
   "outputs": [],
   "source": [
    "fig, ax = plt.subplots(figsize=(10, 10))\n",
    "ax = sns.boxplot(df_np)\n",
    "ax.set(xlim=(0, 10000000), ylim = (-0.5,0.5))"
   ]
  },
  {
   "cell_type": "code",
   "execution_count": null,
   "metadata": {},
   "outputs": [],
   "source": [
    "# fig, ax = plt.subplots(figsize=(10, 10))\n",
    "# ax = sns.boxplot(df_p)\n",
    "# ax.set(xlim=(0, 10000000), ylim = (-0.5,0.5))\n",
    "sns.set_context('notebook')\n",
    "g = sns.FacetGrid(df_porch, row = \"Porchyn\")\n",
    "g.map(sns.boxplot, \"SalePrice\", order = [0,1])"
   ]
  },
  {
   "cell_type": "code",
   "execution_count": null,
   "metadata": {},
   "outputs": [],
   "source": [
    "sns.set_context('poster')\n",
    "fig, axs = plt.subplots(2, 1, figsize = (10,10))\n",
    "sns.boxplot(y=df_p,  orient='h' , ax=axs[0], showfliers = False)\n",
    "sns.boxplot(y=df_np,  orient='h' , ax=axs[1], showfliers = False)"
   ]
  },
  {
   "cell_type": "code",
   "execution_count": null,
   "metadata": {},
   "outputs": [],
   "source": []
  },
  {
   "cell_type": "code",
   "execution_count": null,
   "metadata": {},
   "outputs": [],
   "source": [
    "from scipy.stats import ttest_ind\n",
    "ttest_result = ttest_ind(df_p, df_np, equal_var = False)\n",
    "ttest_result"
   ]
  },
  {
   "cell_type": "code",
   "execution_count": null,
   "metadata": {},
   "outputs": [],
   "source": [
    "p = ttest_result.pvalue\n",
    "p"
   ]
  },
  {
   "cell_type": "markdown",
   "metadata": {},
   "source": [
    "# p value is small so we fail to reject the null hypothesis; we accept the alternative hypothesis"
   ]
  },
  {
   "cell_type": "markdown",
   "metadata": {},
   "source": [
    "# 3) Having a beachfront or lakefront increases home sale price"
   ]
  },
  {
   "cell_type": "code",
   "execution_count": null,
   "metadata": {},
   "outputs": [],
   "source": [
    "df.columns"
   ]
  },
  {
   "cell_type": "code",
   "execution_count": null,
   "metadata": {},
   "outputs": [],
   "source": [
    "df['WfntLocation'].value_counts()"
   ]
  },
  {
   "cell_type": "code",
   "execution_count": null,
   "metadata": {},
   "outputs": [],
   "source": [
    "df_wf = df[['SalePrice', 'WfntLocation']].copy()"
   ]
  },
  {
   "cell_type": "code",
   "execution_count": null,
   "metadata": {},
   "outputs": [],
   "source": [
    "def wfyn(w):\n",
    "    if w > 0:\n",
    "        return 1\n",
    "    else:\n",
    "        return 0"
   ]
  },
  {
   "cell_type": "code",
   "execution_count": null,
   "metadata": {},
   "outputs": [],
   "source": [
    "df_wf['Wfntyn'] = df_wf['WfntLocation'].apply(lambda x: wfyn(x))\n",
    "df_wf.head()"
   ]
  },
  {
   "cell_type": "code",
   "execution_count": null,
   "metadata": {},
   "outputs": [],
   "source": [
    "fig, ax = plt.subplots(figsize=(10, 10))\n",
    "ax = sns.barplot(data=df_wf, x=\"Wfntyn\", y=\"SalePrice\", alpha = 0.8)"
   ]
  },
  {
   "cell_type": "code",
   "execution_count": null,
   "metadata": {},
   "outputs": [],
   "source": [
    "fig, ax = plt.subplots(figsize=(10, 10))\n",
    "ax = sns.boxplot(data=df_wf, y=\"WfntLocation\", x=\"SalePrice\",hue = 'WfntLocation')"
   ]
  },
  {
   "cell_type": "code",
   "execution_count": null,
   "metadata": {},
   "outputs": [],
   "source": [
    "fig, ax = plt.subplots(figsize=(10, 10))\n",
    "ax = sns.boxplot(data=df_wf, y=\"WfntLocation\", x=\"SalePrice\", orient = 'v', hue = 'WfntLocation')"
   ]
  },
  {
   "cell_type": "code",
   "execution_count": null,
   "metadata": {},
   "outputs": [],
   "source": [
    "fig, ax = plt.subplots(figsize=(10, 10))\n",
    "ax = sns.boxplot(data=df_wf, x=\"WfntLocation\", y=\"SalePrice\", orient = 'v', hue = 'WfntLocation', showfliers = False)"
   ]
  },
  {
   "cell_type": "code",
   "execution_count": null,
   "metadata": {},
   "outputs": [],
   "source": [
    "df_wf['WfntLocation_cat'] = df_wf['WfntLocation'].astype('str')"
   ]
  },
  {
   "cell_type": "code",
   "execution_count": null,
   "metadata": {},
   "outputs": [],
   "source": [
    "fig, ax = plt.subplots(figsize=(10, 10))\n",
    "colors = ['#4d5198', '#daf2dc', '#81b7d2', '#ffcce7']\n",
    "x_ticks = ['0', '$0 mil','$2 mil','$4 mil','$6 mil','$8 mil', '$10 mil', '$12 mil']\n",
    "y_ticks = ['Non-Waterfront','Duwamish', 'Puget Sound', 'Ship Canal', 'Lake Wash', 'Lake Samm', 'Other Lakes', 'River/Slough']\n",
    "ax = sns.boxplot(x=df_wf['SalePrice'], y=df_wf['WfntLocation_cat'], orient ='h', showfliers = False, boxprops=dict(alpha=.8), palette = colors)\n",
    "plt.xlim(-600000,12000000)\n",
    "ax.set_title(\"House Price\")\n",
    "ax.set_xlabel('')\n",
    "ax.set_xticklabels(x_ticks)\n",
    "ax.set_ylabel('')\n",
    "ax.set_yticklabels(y_ticks)\n",
    "figure = ax.get_figure().savefig(\"wf_avg_breakdown\", dpi = 400, bbox_inches = \"tight\")"
   ]
  },
  {
   "cell_type": "code",
   "execution_count": null,
   "metadata": {},
   "outputs": [],
   "source": [
    "df_wf['WfntLocation_cat'].value_counts()"
   ]
  },
  {
   "cell_type": "code",
   "execution_count": null,
   "metadata": {},
   "outputs": [],
   "source": [
    "df_w = df[df['WfntLocation'] > 0]['SalePrice'].copy()\n",
    "df_nw = df[df['WfntLocation'] == 0]['SalePrice'].copy()\n",
    "print(len(df_w), len(df_nw))"
   ]
  },
  {
   "cell_type": "code",
   "execution_count": null,
   "metadata": {},
   "outputs": [],
   "source": [
    "fig, ax = plt.subplots(figsize=(10, 10))\n",
    "ax = sns.boxplot(df_w)\n",
    "ax.set(xlim=(0, 10000000), ylim = (-0.5,0.5))"
   ]
  },
  {
   "cell_type": "code",
   "execution_count": null,
   "metadata": {},
   "outputs": [],
   "source": [
    "fig, ax = plt.subplots(figsize=(10, 10))\n",
    "ax = sns.boxplot(df_nw)\n",
    "ax.set(xlim=(0, 10000000), ylim = (-0.5,0.5))"
   ]
  },
  {
   "cell_type": "code",
   "execution_count": null,
   "metadata": {},
   "outputs": [],
   "source": [
    "sns.pairplot(df_wf, kind = 'reg')"
   ]
  },
  {
   "cell_type": "code",
   "execution_count": null,
   "metadata": {},
   "outputs": [],
   "source": [
    "df_wf['Wfntyn'].value_counts()"
   ]
  },
  {
   "cell_type": "code",
   "execution_count": null,
   "metadata": {},
   "outputs": [],
   "source": [
    "# # create a smaller df to save space and processing power\n",
    "fsm_df = df_wf[['SalePrice', 'Wfntyn']].copy()\n",
    "fsm_df.dropna(inplace=True)\n",
    "fsm = ols(formula=\"SalePrice ~ Wfntyn\", data=fsm_df)\n",
    "fsm_results = fsm.fit()\n",
    "fsm_results.summary()"
   ]
  },
  {
   "cell_type": "code",
   "execution_count": null,
   "metadata": {},
   "outputs": [],
   "source": [
    "ttest_result = ttest_ind(df_w, df_nw, equal_var = False)\n",
    "ttest_result"
   ]
  },
  {
   "cell_type": "code",
   "execution_count": null,
   "metadata": {},
   "outputs": [],
   "source": [
    "p = ttest_result.pvalue\n",
    "p"
   ]
  },
  {
   "cell_type": "code",
   "execution_count": null,
   "metadata": {},
   "outputs": [],
   "source": [
    "fig, ax = plt.subplots(figsize=(10, 10))\n",
    "bar_colors = ['#c6d7eb', '#d9a5b3', '#1868ae']\n",
    "x_ticks = ['Normal House', 'Waterfront House']\n",
    "y_ticks = ['$0k', '$25k', '$50k', '$75k', '$100k', '$125k', '$150k', '$175k', '$200k']\n",
    "ax = sns.barplot(data = df_wf, x = \"Wfntyn\", y = \"SalePrice\", alpha = 0.9, palette = bar_colors, ci = 93, zorder = 0)\n",
    "sns.lineplot(data = df_wf, x = 'Wfntyn', y = 'SalePrice', alpha = 1, color = bar_colors[2], zorder = 10)\n",
    "ax.set_title(\"Average Price Increase of a Waterfront House\")\n",
    "ax.set_xlabel('')\n",
    "ax.set_xticklabels(x_ticks)\n",
    "ax.set_ylabel('')\n",
    "ax.set_yticklabels(y_ticks)\n",
    "250000"
   ]
  },
  {
   "cell_type": "code",
   "execution_count": null,
   "metadata": {},
   "outputs": [],
   "source": [
    "w_outlier = ( 3 * df_w.std() ) + df_w.mean()\n",
    "nw_outlier = ( 3 * df_nw.std() ) + df_nw.mean()\n",
    "df1 = df_wf[(df_wf['Wfntyn'] == 0) & (df_wf['SalePrice'] <= nw_outlier)]\n",
    "df2 = df_wf[(df_wf['Wfntyn'] == 1) & (df_wf['SalePrice'] <= w_outlier)]\n",
    "df_wf_cheap = df1.append(df2)\n",
    "df_wf_cheap.shape"
   ]
  },
  {
   "cell_type": "code",
   "execution_count": null,
   "metadata": {},
   "outputs": [],
   "source": [
    "df_wf_cheap[df_wf_cheap['Wfntyn'] == 1]['SalePrice'].mean() - df_wf_cheap[df_wf_cheap['Wfntyn'] == 0]['SalePrice'].mean()"
   ]
  },
  {
   "cell_type": "code",
   "execution_count": null,
   "metadata": {},
   "outputs": [],
   "source": [
    "# # create a smaller df to save space and processing power\n",
    "fsm_df = df_wf_cheap[['SalePrice', 'Wfntyn']].copy()\n",
    "fsm_df.dropna(inplace=True)\n",
    "fsm = ols(formula=\"SalePrice ~ Wfntyn\", data=fsm_df)\n",
    "fsm_results = fsm.fit()\n",
    "fsm_results.summary()"
   ]
  },
  {
   "cell_type": "code",
   "execution_count": null,
   "metadata": {},
   "outputs": [],
   "source": []
  },
  {
   "cell_type": "code",
   "execution_count": null,
   "metadata": {},
   "outputs": [],
   "source": [
    "fig, ax = plt.subplots(figsize=(10, 10))\n",
    "bar_colors = ['#aed6dc', '#ff9a8d', '#4a536b']\n",
    "x_ticks = ['Normal House', 'Waterfront House']\n",
    "y_ticks = ['$0.0 mil', '$0.2 mil', '$0.4 mil', '$0.6 mil', '$0.8 mil', '$1.0 mil', '$1.2 mil', '$1.4 mil', '$1.6 mil', '$1.8 mil']\n",
    "ax = sns.barplot(data = df_wf_cheap, x = \"Wfntyn\", y = \"SalePrice\", alpha = 0.9, palette = bar_colors, ci = 95, zorder = 0)\n",
    "sns.lineplot(data = df_wf_cheap, x = 'Wfntyn', y = 'SalePrice', alpha = 1, color = bar_colors[2], zorder = 10)\n",
    "ax.set_title(\"Average Price Increase of a Waterfront House\")\n",
    "plt.ylim(0,1800000)\n",
    "ax.set_xlabel('')\n",
    "ax.set_xticklabels(x_ticks)\n",
    "ax.set_ylabel('')\n",
    "ax.set_yticklabels(y_ticks)\n",
    "plt.show()\n",
    "figure = ax.get_figure().savefig(\"wf_avg_price\", dpi = 400, bbox_inches = \"tight\")"
   ]
  },
  {
   "cell_type": "code",
   "execution_count": null,
   "metadata": {},
   "outputs": [],
   "source": []
  },
  {
   "cell_type": "code",
   "execution_count": null,
   "metadata": {},
   "outputs": [],
   "source": [
    "print(df_wf_cheap[df_wf_cheap['Wfntyn'] == 0]['SalePrice'].mean(), df_wf_cheap[df_wf_cheap['Wfntyn'] == 1]['SalePrice'].mean())\n",
    "m, n = df_wf_cheap[df_wf_cheap['Wfntyn'] == 0]['SalePrice'].mean(), df_wf_cheap[df_wf_cheap['Wfntyn'] == 1]['SalePrice'].mean()\n",
    "n/m"
   ]
  },
  {
   "cell_type": "markdown",
   "metadata": {},
   "source": [
    "# Waterfront housing are way more expensive"
   ]
  },
  {
   "cell_type": "code",
   "execution_count": null,
   "metadata": {},
   "outputs": [],
   "source": [
    "print(df_wf[df_wf['Wfntyn'] == 0]['SalePrice'].mean(), df_wf_cheap[df_wf_cheap['Wfntyn'] == 0]['SalePrice'].mean())"
   ]
  },
  {
   "cell_type": "code",
   "execution_count": null,
   "metadata": {},
   "outputs": [],
   "source": [
    "df_wf_cheap[df_wf_cheap['Wfntyn'] == 0]['SalePrice'].mean()"
   ]
  },
  {
   "cell_type": "markdown",
   "metadata": {},
   "source": [
    "# p value is small so we fail to reject the null hypothesis; we accept the alternative hypothesis"
   ]
  },
  {
   "cell_type": "code",
   "execution_count": null,
   "metadata": {},
   "outputs": [],
   "source": []
  },
  {
   "cell_type": "code",
   "execution_count": null,
   "metadata": {},
   "outputs": [],
   "source": []
  },
  {
   "cell_type": "code",
   "execution_count": null,
   "metadata": {},
   "outputs": [],
   "source": [
    "df_cat.head()"
   ]
  },
  {
   "cell_type": "code",
   "execution_count": null,
   "metadata": {},
   "outputs": [],
   "source": [
    "df_cat = df.select_dtypes(include = 'object')\n",
    "df_cat.drop(columns = ['Merged_Key', 'DocumentDate', 'PropType', 'Address', 'DaylightBasement'], inplace = True, errors = 'ignore')\n",
    "df_cat.head()"
   ]
  },
  {
   "cell_type": "code",
   "execution_count": null,
   "metadata": {},
   "outputs": [],
   "source": [
    "from sklearn.preprocessing import OneHotEncoder\n",
    "# transformed = jobs_encoder.transform(df_cat['WfntAccessRights'].to_numpy().reshape(-1, 1))\n",
    "#Create a Pandas DataFrame of the hot encoded column\n",
    "# ohe_df = pd.DataFrame(transformed, columns=jobs_\n",
    "#                       .get_feature_names())\n",
    "# #concat with original data\n",
    "# data = pd.concat([data, ohe_df], axis=1).drop(['Profession'], axis=1)"
   ]
  },
  {
   "cell_type": "code",
   "execution_count": null,
   "metadata": {},
   "outputs": [],
   "source": [
    "enc.fit(df_cat)"
   ]
  },
  {
   "cell_type": "code",
   "execution_count": null,
   "metadata": {},
   "outputs": [],
   "source": [
    "enc.categories_"
   ]
  },
  {
   "cell_type": "code",
   "execution_count": null,
   "metadata": {},
   "outputs": [],
   "source": [
    "df.NbrLivingUnits.value_counts()"
   ]
  },
  {
   "cell_type": "code",
   "execution_count": null,
   "metadata": {},
   "outputs": [],
   "source": [
    "df.loc[df['NbrLivingUnits'].isin([1,2])]"
   ]
  },
  {
   "cell_type": "code",
   "execution_count": null,
   "metadata": {},
   "outputs": [],
   "source": [
    "len(df_nw)"
   ]
  },
  {
   "cell_type": "code",
   "execution_count": null,
   "metadata": {},
   "outputs": [],
   "source": [
    "len(df_w)"
   ]
  },
  {
   "cell_type": "code",
   "execution_count": null,
   "metadata": {},
   "outputs": [],
   "source": []
  }
 ],
 "metadata": {
  "kernelspec": {
   "display_name": "learn-env",
   "language": "python",
   "name": "learn-env"
  },
  "language_info": {
   "codemirror_mode": {
    "name": "ipython",
    "version": 3
   },
   "file_extension": ".py",
   "mimetype": "text/x-python",
   "name": "python",
   "nbconvert_exporter": "python",
   "pygments_lexer": "ipython3",
   "version": "3.6.9"
  }
 },
 "nbformat": 4,
 "nbformat_minor": 4
}
