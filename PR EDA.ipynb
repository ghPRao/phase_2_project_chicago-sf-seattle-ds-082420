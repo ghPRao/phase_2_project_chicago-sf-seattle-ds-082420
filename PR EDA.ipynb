{
 "cells": [
  {
   "cell_type": "markdown",
   "metadata": {},
   "source": [
    "# Some potential audiences are:\n",
    "\n",
    "1. Homeowners who want to increase the sale price of their homes through home improvement projects\n",
    "2. Advocacy groups who want to promote affordable housing\n",
    "3. Local elected officials who want to understand how their policy ideas (e.g. zoning changes, permitting) might impact home prices\n",
    "4. Real estate investors looking for potential \"fixer-uppers\" or \"tear-downs\""
   ]
  },
  {
   "cell_type": "markdown",
   "metadata": {},
   "source": [
    "# Three things to be sure you establish during this phase are:\n",
    "\n",
    "1. **Objectives:** what questions are you trying to answer, and for whom?\n",
    "2. **Project plan:** you may want to establish more formal project management practices, such as daily stand-ups or using a Trello board, to plan the time you have remaining. Regardless, you should determine the division of labor, communication expectations, and timeline.\n",
    "3. **Success criteria:** what does a successful project look like? How will you know when you have achieved it?"
   ]
  },
  {
   "cell_type": "markdown",
   "metadata": {},
   "source": [
    "# READ THIS: Import the following data files from https://info.kingcounty.gov/assessor/DataDownload/default.aspx\n",
    "## Download the files to local repo data directory\n",
    "> 1) Real Property Sales (.ZIP, csv) <BR>\n",
    "> 2) Parcel (.ZIP, csv) <BR>\n",
    "> 3) Residential Building (.ZIP, csv) <BR>\n",
    "> 4) Unit Breakdown (.ZIP)<BR>\n"
   ]
  },
  {
   "cell_type": "code",
   "execution_count": 2,
   "metadata": {},
   "outputs": [],
   "source": [
    "import os\n",
    "import pandas as pd\n",
    "import numpy as np\n",
    "\n",
    "import matplotlib.pyplot as plt\n",
    "import seaborn as sns\n",
    "\n",
    "import statsmodels.api as sm\n",
    "from statsmodels.formula.api import ols\n",
    "from statsmodels.stats.diagnostic import linear_rainbow, het_breuschpagan\n",
    "from statsmodels.stats.outliers_influence import variance_inflation_factor"
   ]
  },
  {
   "cell_type": "markdown",
   "metadata": {},
   "source": [
    "### TODO: 1) Read EXTR_RPSale.csv only once. First check if we have already creaed df_modelview, then skip reading. "
   ]
  },
  {
   "cell_type": "code",
   "execution_count": 3,
   "metadata": {},
   "outputs": [
    {
     "name": "stdout",
     "output_type": "stream",
     "text": [
      "Before Filer EXTR_RPSale.csv:  (2107155, 24)\n",
      "After Filer EXTR_RPSale.csv:  (2107155, 7)\n"
     ]
    }
   ],
   "source": [
    "# Data File: EXTR_RPSale.csv\n",
    "#Table: EXTR_RPSale \n",
    "#Keys: Major, Minor\n",
    "#Fields: SalePrice, PropertyType, PrincipalUse\n",
    "\n",
    "\n",
    "df_rp_sales = pd.read_csv('data/EXTR_RPSale.csv', encoding = \"ISO-8859-1\", low_memory=False)\n",
    "print(\"Before Filer EXTR_RPSale.csv: \", df_rp_sales.shape)\n",
    "\n",
    "# Filter the following columns from EXTR_RPsale table\n",
    "# Primary key: 'Major', 'Minor' \n",
    "# Select Fields: 'DocumentDate', 'SalePrice', 'PropertyType', 'PrincipalUse', 'PropertyClass\n",
    "cols = list(df_rp_sales.columns)\n",
    "df_rp_sales = df_rp_sales[cols[1:5] + cols[14:16] + cols[22:23]]\n",
    "print(\"After Filer EXTR_RPSale.csv: \", df_rp_sales.shape)"
   ]
  },
  {
   "cell_type": "code",
   "execution_count": 14,
   "metadata": {},
   "outputs": [
    {
     "ename": "SyntaxError",
     "evalue": "unexpected EOF while parsing (<ipython-input-14-a49d5a5e2402>, line 3)",
     "output_type": "error",
     "traceback": [
      "\u001b[0;36m  File \u001b[0;32m\"<ipython-input-14-a49d5a5e2402>\"\u001b[0;36m, line \u001b[0;32m3\u001b[0m\n\u001b[0;31m    # df_rp_sales['DocumentDate'].year == 2019\u001b[0m\n\u001b[0m                                              ^\u001b[0m\n\u001b[0;31mSyntaxError\u001b[0m\u001b[0;31m:\u001b[0m unexpected EOF while parsing\n"
     ]
    }
   ],
   "source": []
  },
  {
   "cell_type": "code",
   "execution_count": null,
   "metadata": {},
   "outputs": [],
   "source": [
    "### TODO: 2) Read EXTR_Parcel.csv only once. First check if we have already creaed df_modelview, then skip reading the file."
   ]
  },
  {
   "cell_type": "code",
   "execution_count": 109,
   "metadata": {},
   "outputs": [
    {
     "name": "stdout",
     "output_type": "stream",
     "text": [
      "Before EXTR_Parcel.csv:  (616089, 81)\n"
     ]
    },
    {
     "data": {
      "text/plain": [
       "Index(['Major', 'Minor', 'PropName', 'PlatName', 'PlatLot', 'PlatBlock',\n",
       "       'Range', 'Township', 'Section', 'QuarterSection', 'PropType', 'Area',\n",
       "       'SubArea', 'SpecArea', 'SpecSubArea', 'DistrictName', 'LevyCode',\n",
       "       'CurrentZoning', 'HBUAsIfVacant', 'HBUAsImproved', 'PresentUse',\n",
       "       'SqFtLot', 'WaterSystem', 'SewerSystem', 'Access', 'Topography',\n",
       "       'StreetSurface', 'RestrictiveSzShape', 'InadequateParking',\n",
       "       'PcntUnusable', 'Unbuildable', 'MtRainier', 'Olympics', 'Cascades',\n",
       "       'Territorial', 'SeattleSkyline', 'PugetSound', 'LakeWashington',\n",
       "       'LakeSammamish', 'SmallLakeRiverCreek', 'OtherView', 'WfntLocation',\n",
       "       'WfntFootage', 'WfntBank', 'WfntPoorQuality', 'WfntRestrictedAccess',\n",
       "       'WfntAccessRights', 'WfntProximityInfluence', 'TidelandShoreland',\n",
       "       'LotDepthFactor', 'TrafficNoise', 'AirportNoise', 'PowerLines',\n",
       "       'OtherNuisances', 'NbrBldgSites', 'Contamination', 'DNRLease',\n",
       "       'AdjacentGolfFairway', 'AdjacentGreenbelt', 'HistoricSite',\n",
       "       'CurrentUseDesignation', 'NativeGrowthProtEsmt', 'Easements',\n",
       "       'OtherDesignation', 'DeedRestrictions', 'DevelopmentRightsPurch',\n",
       "       'CoalMineHazard', 'CriticalDrainage', 'ErosionHazard', 'LandfillBuffer',\n",
       "       'HundredYrFloodPlain', 'SeismicHazard', 'LandslideHazard',\n",
       "       'SteepSlopeHazard', 'Stream', 'Wetland', 'SpeciesOfConcern',\n",
       "       'SensitiveAreaTract', 'WaterProblems', 'TranspConcurrency',\n",
       "       'OtherProblems'],\n",
       "      dtype='object')"
      ]
     },
     "execution_count": 109,
     "metadata": {},
     "output_type": "execute_result"
    }
   ],
   "source": [
    "#Data File: EXTR_Parcel.csv\n",
    "#Table: EXTR_Parcel\n",
    "#Keys: Major, Minor\n",
    "#Fields: PropType, Area, SubArea,DistrictName, SqFtLot, WaterSystem, SewerSystem, Access, WaterProblems, AirportNoise, TrafficNoise,PowerLines,  LandSlideHazard, SeismicHazard\n",
    "\n",
    "df_parcel = pd.read_csv('data/EXTR_Parcel.csv', encoding = \"ISO-8859-1\", low_memory=False)\n",
    "print(\"Before EXTR_Parcel.csv: \", df_parcel.shape)\n",
    "df_parcel.columns\n",
    "# Filter the following columns from EXTR_Parcel table\n",
    "# Primary key: 'Major', 'Minor' \n",
    "# Select Fields: PropType, Area, SubArea, DistrictName, SqFtLot, WaterSystem, SewerSystem, Access, WaterProblems, AirportNoise, TrafficNoise,PowerLines,  LandSlideHazard, SeismicHazard\n",
    "cols = list(df_parcel.columns)\n",
    "df_par = df_parcel[cols[:2] + cols[10:11] + cols[15:16]]\n",
    "print(\"After Filer EXTR_Parcel.csv: \", df_par.shape)\n"
   ]
  },
  {
   "cell_type": "raw",
   "metadata": {},
   "source": [
    "# Filter the following columns from EXTR_Parcel table\n",
    "# Primary key: 'Major', 'Minor' \n",
    "# Select Fields: PropType, Area, SubAreaDistrictName, SqFtLot, WaterSystem, SewerSystem, Access, WaterProblems, AirportNoise, \n",
    "#.               TrafficNoise,PowerLines,  LandSlideHazard, SeismicHazard\n",
    "cols = list(df_parcel.columns)\n",
    "# df_par = df_parcel[cols[:2] + cols[10:11] + cols[15:16]]\n",
    "# print(\"After Filer EXTR_Parcel.csv: \", df_par.shape)"
   ]
  },
  {
   "cell_type": "code",
   "execution_count": 108,
   "metadata": {},
   "outputs": [
    {
     "name": "stdout",
     "output_type": "stream",
     "text": [
      "EXTR_ValueHistory_5.csv:  (23212862, 16)\n"
     ]
    }
   ],
   "source": [
    "#Data File: EXTR_ValueHistory_5.csv\n",
    "#Table: EXTR_ValueHistory\n",
    "#Keys: Major, Minor\n",
    "#Fields: TaxYr, LandVal, ImpsVal\n",
    "\n",
    "df_value_history = pd.read_csv('data/EXTR_ValueHistory_V.csv', encoding = \"ISO-8859-1\")\n",
    "print(\"EXTR_ValueHistory_5.csv: \", df_value_history.shape)"
   ]
  },
  {
   "cell_type": "code",
   "execution_count": 96,
   "metadata": {},
   "outputs": [
    {
     "name": "stdout",
     "output_type": "stream",
     "text": [
      "EXTR_ResBldg.csv:  (517554, 50)\n"
     ]
    }
   ],
   "source": [
    "#Data File: EXTR_ResBldg.csv\n",
    "#Table: EXTR_ResBldg\n",
    "#Keys: Major, Minor\n",
    "#Fields:  BldgNbr, NbrLivingUnits, Address, BuildingNumber, Stories, BldgGrade, SqFt1stFloor, SqFtHalfFloor, SqFt2ndFloor, SqFtUpperFloor, SqFtTotLiving, SqFtTotBasement, SqFtFinBasement, SqFtOpenPorch, SqFtEnclosedPorch, SqFtDeck, HeatSystem, HeatSource, Bedrooms, BathHafCouunt, Bath3qtrCount, BathFullCount, FpSingleStory, FpMultiStory, YrBuilt, YrRenovated \n",
    "\n",
    "df_res_bldg = pd.read_csv('data/EXTR_ResBldg.csv', encoding = \"ISO-8859-1\", low_memory=False)\n",
    "print(\"EXTR_ResBldg.csv: \", df_res_bldg.shape)"
   ]
  },
  {
   "cell_type": "code",
   "execution_count": 41,
   "metadata": {},
   "outputs": [
    {
     "name": "stdout",
     "output_type": "stream",
     "text": [
      "EXTR_UnitBreakdown:  (25382, 7)\n"
     ]
    }
   ],
   "source": [
    "#Data File: EXTR_UnitBreakdown.csv\n",
    "#Table: EXTR_UnitBreakdown\n",
    "#Keys: Major, Minor\n",
    "#Fields:  'UnitTypeItemId', 'NbrThisType', 'SqFt','NbrBedrooms', 'NbrBaths'\n",
    "\n",
    "df_unit_breakdown = pd.read_csv('data/EXTR_UnitBreakdown.csv', encoding = \"ISO-8859-1\", low_memory=False)\n",
    "print(\"EXTR_UnitBreakdown: \", df_unit_breakdown.shape)"
   ]
  },
  {
   "cell_type": "markdown",
   "metadata": {},
   "source": [
    "## READ: Explore the column names from each\n",
    "> 1) Real Property Sales <BR>\n",
    "> 2) Parcel <BR>\n",
    "> 3) Residential Building  <BR>\n",
    "> 4) Unit Breakdown <BR>\n",
    "\n",
    "> As you will notice, every file has Major+Minor as the key for each table.<BR>\n",
    "> We will not use all the columns from each table in our regression model.<BR>\n",
    "> Moreover,  each files have HUGE number of records, all with Major+Minor as the key fileds.<BR>\n",
    "> We will read and create ONE view of data joined from each of these tables required to answer many business qustions.<BR>\n",
    "> With that in mind, we will create ONE csv file from data extracted from each of these csv file and store it in data directory<BR> as, \"par_rps_rb_ub.csv'"
   ]
  },
  {
   "cell_type": "code",
   "execution_count": 37,
   "metadata": {},
   "outputs": [
    {
     "data": {
      "text/plain": [
       "Index(['ExciseTaxNbr', 'Major', 'Minor', 'DocumentDate', 'SalePrice',\n",
       "       'RecordingNbr', 'Volume', 'Page', 'PlatNbr', 'PlatType', 'PlatLot',\n",
       "       'PlatBlock', 'SellerName', 'BuyerName', 'PropertyType', 'PrincipalUse',\n",
       "       'SaleInstrument', 'AFForestLand', 'AFCurrentUseLand', 'AFNonProfitUse',\n",
       "       'AFHistoricProperty', 'SaleReason', 'PropertyClass', 'SaleWarning'],\n",
       "      dtype='object')"
      ]
     },
     "execution_count": 37,
     "metadata": {},
     "output_type": "execute_result"
    }
   ],
   "source": [
    "df_rp_sales.columns"
   ]
  },
  {
   "cell_type": "code",
   "execution_count": 31,
   "metadata": {},
   "outputs": [
    {
     "data": {
      "text/plain": [
       "Index(['Major', 'Minor', 'BldgNbr', 'NbrLivingUnits', 'Address',\n",
       "       'BuildingNumber', 'Fraction', 'DirectionPrefix', 'StreetName',\n",
       "       'StreetType', 'DirectionSuffix', 'ZipCode', 'Stories', 'BldgGrade',\n",
       "       'BldgGradeVar', 'SqFt1stFloor', 'SqFtHalfFloor', 'SqFt2ndFloor',\n",
       "       'SqFtUpperFloor', 'SqFtUnfinFull', 'SqFtUnfinHalf', 'SqFtTotLiving',\n",
       "       'SqFtTotBasement', 'SqFtFinBasement', 'FinBasementGrade',\n",
       "       'SqFtGarageBasement', 'SqFtGarageAttached', 'DaylightBasement',\n",
       "       'SqFtOpenPorch', 'SqFtEnclosedPorch', 'SqFtDeck', 'HeatSystem',\n",
       "       'HeatSource', 'BrickStone', 'ViewUtilization', 'Bedrooms',\n",
       "       'BathHalfCount', 'Bath3qtrCount', 'BathFullCount', 'FpSingleStory',\n",
       "       'FpMultiStory', 'FpFreestanding', 'FpAdditional', 'YrBuilt',\n",
       "       'YrRenovated', 'PcntComplete', 'Obsolescence', 'PcntNetCondition',\n",
       "       'Condition', 'AddnlCost'],\n",
       "      dtype='object')"
      ]
     },
     "execution_count": 31,
     "metadata": {},
     "output_type": "execute_result"
    }
   ],
   "source": [
    "df_res_bldg.columns"
   ]
  },
  {
   "cell_type": "code",
   "execution_count": 40,
   "metadata": {},
   "outputs": [
    {
     "data": {
      "text/plain": [
       "Index(['Major', 'Minor', 'TaxYr', 'OmitYr', 'ApprLandVal', 'ApprImpsVal',\n",
       "       'ApprImpIncr', 'LandVal', 'ImpsVal', 'TaxValReason', 'TaxStatus',\n",
       "       'LevyCode', 'ChangeDate', 'ChangeDocId', 'Reason', 'SplitCode'],\n",
       "      dtype='object')"
      ]
     },
     "execution_count": 40,
     "metadata": {},
     "output_type": "execute_result"
    }
   ],
   "source": [
    "df_value_history.columns"
   ]
  },
  {
   "cell_type": "code",
   "execution_count": 42,
   "metadata": {},
   "outputs": [
    {
     "data": {
      "text/plain": [
       "Index(['Major', 'Minor', 'UnitTypeItemId', 'NbrThisType', 'SqFt',\n",
       "       'NbrBedrooms', 'NbrBaths'],\n",
       "      dtype='object')"
      ]
     },
     "execution_count": 42,
     "metadata": {},
     "output_type": "execute_result"
    }
   ],
   "source": [
    "df_unit_breakdown.columns"
   ]
  },
  {
   "cell_type": "code",
   "execution_count": 75,
   "metadata": {},
   "outputs": [
    {
     "data": {
      "text/plain": [
       "Index(['Minor', 'DocumentDate', 'SalePrice', 'PropertyType'], dtype='object')"
      ]
     },
     "execution_count": 75,
     "metadata": {},
     "output_type": "execute_result"
    }
   ],
   "source": [
    "df_rp_sales.columns"
   ]
  }
 ],
 "metadata": {
  "kernelspec": {
   "display_name": "Python 3",
   "language": "python",
   "name": "python3"
  },
  "language_info": {
   "codemirror_mode": {
    "name": "ipython",
    "version": 3
   },
   "file_extension": ".py",
   "mimetype": "text/x-python",
   "name": "python",
   "nbconvert_exporter": "python",
   "pygments_lexer": "ipython3",
   "version": "3.6.9"
  }
 },
 "nbformat": 4,
 "nbformat_minor": 4
}
